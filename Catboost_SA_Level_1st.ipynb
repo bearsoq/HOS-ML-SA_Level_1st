{
 "cells": [
  {
   "cell_type": "code",
   "execution_count": 1,
   "id": "f4a0c78d",
   "metadata": {},
   "outputs": [],
   "source": [
    "import os\n",
    "import pandas as pd\n",
    "import numpy as np \n",
    "from sklearn.metrics import confusion_matrix\n",
    "from sklearn.metrics import accuracy_score\n",
    "from catboost import CatBoostRegressor, Pool , CatBoostClassifier\n",
    "from sklearn.model_selection import train_test_split\n",
    "import seaborn as sns\n",
    "import matplotlib.pyplot as plt\n",
    "from sklearn.metrics import precision_score, recall_score, f1_score\n",
    "from sklearn.metrics import classification_report\n",
    "import itertools"
   ]
  },
  {
   "cell_type": "code",
   "execution_count": 2,
   "id": "7e0a3eb8",
   "metadata": {},
   "outputs": [
    {
     "data": {
      "text/html": [
       "<div>\n",
       "<style scoped>\n",
       "    .dataframe tbody tr th:only-of-type {\n",
       "        vertical-align: middle;\n",
       "    }\n",
       "\n",
       "    .dataframe tbody tr th {\n",
       "        vertical-align: top;\n",
       "    }\n",
       "\n",
       "    .dataframe thead th {\n",
       "        text-align: right;\n",
       "    }\n",
       "</style>\n",
       "<table border=\"1\" class=\"dataframe\">\n",
       "  <thead>\n",
       "    <tr style=\"text-align: right;\">\n",
       "      <th></th>\n",
       "      <th>Surgery</th>\n",
       "      <th>ASA</th>\n",
       "      <th>Emergency</th>\n",
       "      <th>Age</th>\n",
       "      <th>Height</th>\n",
       "      <th>BW</th>\n",
       "      <th>BMI</th>\n",
       "      <th>Gender</th>\n",
       "      <th>IBW</th>\n",
       "      <th>BSA</th>\n",
       "      <th>...</th>\n",
       "      <th>In_DBP</th>\n",
       "      <th>In_5_SBP</th>\n",
       "      <th>In_5_DBP</th>\n",
       "      <th>In_10_SBP</th>\n",
       "      <th>In_10_DBP</th>\n",
       "      <th>In_HR</th>\n",
       "      <th>In_5_HR</th>\n",
       "      <th>In_10_HR</th>\n",
       "      <th>In_Sat</th>\n",
       "      <th>SA_Arrthymia</th>\n",
       "    </tr>\n",
       "  </thead>\n",
       "  <tbody>\n",
       "    <tr>\n",
       "      <th>0</th>\n",
       "      <td>OBS</td>\n",
       "      <td>1</td>\n",
       "      <td>No</td>\n",
       "      <td>34</td>\n",
       "      <td>158.0</td>\n",
       "      <td>48.0</td>\n",
       "      <td>19.23</td>\n",
       "      <td>Female</td>\n",
       "      <td>50.60</td>\n",
       "      <td>1.45</td>\n",
       "      <td>...</td>\n",
       "      <td>60</td>\n",
       "      <td>115</td>\n",
       "      <td>70</td>\n",
       "      <td>120</td>\n",
       "      <td>65</td>\n",
       "      <td>80</td>\n",
       "      <td>85</td>\n",
       "      <td>92</td>\n",
       "      <td>98</td>\n",
       "      <td>None</td>\n",
       "    </tr>\n",
       "    <tr>\n",
       "      <th>1</th>\n",
       "      <td>OBS</td>\n",
       "      <td>2</td>\n",
       "      <td>No</td>\n",
       "      <td>36</td>\n",
       "      <td>168.0</td>\n",
       "      <td>84.0</td>\n",
       "      <td>29.76</td>\n",
       "      <td>Female</td>\n",
       "      <td>59.70</td>\n",
       "      <td>1.98</td>\n",
       "      <td>...</td>\n",
       "      <td>90</td>\n",
       "      <td>159</td>\n",
       "      <td>82</td>\n",
       "      <td>102</td>\n",
       "      <td>58</td>\n",
       "      <td>85</td>\n",
       "      <td>80</td>\n",
       "      <td>68</td>\n",
       "      <td>97</td>\n",
       "      <td>None</td>\n",
       "    </tr>\n",
       "    <tr>\n",
       "      <th>2</th>\n",
       "      <td>GU</td>\n",
       "      <td>3</td>\n",
       "      <td>Yes</td>\n",
       "      <td>91</td>\n",
       "      <td>162.0</td>\n",
       "      <td>61.0</td>\n",
       "      <td>23.24</td>\n",
       "      <td>Male</td>\n",
       "      <td>58.74</td>\n",
       "      <td>1.66</td>\n",
       "      <td>...</td>\n",
       "      <td>83</td>\n",
       "      <td>172</td>\n",
       "      <td>83</td>\n",
       "      <td>160</td>\n",
       "      <td>65</td>\n",
       "      <td>62</td>\n",
       "      <td>60</td>\n",
       "      <td>59</td>\n",
       "      <td>100</td>\n",
       "      <td>None</td>\n",
       "    </tr>\n",
       "    <tr>\n",
       "      <th>3</th>\n",
       "      <td>GU</td>\n",
       "      <td>3</td>\n",
       "      <td>No</td>\n",
       "      <td>93</td>\n",
       "      <td>168.0</td>\n",
       "      <td>65.8</td>\n",
       "      <td>23.31</td>\n",
       "      <td>Male</td>\n",
       "      <td>64.20</td>\n",
       "      <td>1.75</td>\n",
       "      <td>...</td>\n",
       "      <td>45</td>\n",
       "      <td>112</td>\n",
       "      <td>50</td>\n",
       "      <td>100</td>\n",
       "      <td>51</td>\n",
       "      <td>68</td>\n",
       "      <td>65</td>\n",
       "      <td>60</td>\n",
       "      <td>97</td>\n",
       "      <td>None</td>\n",
       "    </tr>\n",
       "    <tr>\n",
       "      <th>4</th>\n",
       "      <td>Ortho</td>\n",
       "      <td>1</td>\n",
       "      <td>No</td>\n",
       "      <td>20</td>\n",
       "      <td>176.0</td>\n",
       "      <td>88.0</td>\n",
       "      <td>28.41</td>\n",
       "      <td>Male</td>\n",
       "      <td>71.48</td>\n",
       "      <td>2.07</td>\n",
       "      <td>...</td>\n",
       "      <td>60</td>\n",
       "      <td>110</td>\n",
       "      <td>65</td>\n",
       "      <td>110</td>\n",
       "      <td>55</td>\n",
       "      <td>60</td>\n",
       "      <td>45</td>\n",
       "      <td>55</td>\n",
       "      <td>98</td>\n",
       "      <td>None</td>\n",
       "    </tr>\n",
       "  </tbody>\n",
       "</table>\n",
       "<p>5 rows × 58 columns</p>\n",
       "</div>"
      ],
      "text/plain": [
       "  Surgery  ASA Emergency  Age  Height    BW    BMI  Gender    IBW   BSA  ...  \\\n",
       "0     OBS    1        No   34   158.0  48.0  19.23  Female  50.60  1.45  ...   \n",
       "1     OBS    2        No   36   168.0  84.0  29.76  Female  59.70  1.98  ...   \n",
       "2      GU    3       Yes   91   162.0  61.0  23.24    Male  58.74  1.66  ...   \n",
       "3      GU    3        No   93   168.0  65.8  23.31    Male  64.20  1.75  ...   \n",
       "4   Ortho    1        No   20   176.0  88.0  28.41    Male  71.48  2.07  ...   \n",
       "\n",
       "   In_DBP In_5_SBP In_5_DBP In_10_SBP In_10_DBP In_HR In_5_HR In_10_HR  \\\n",
       "0      60      115       70       120        65    80      85       92   \n",
       "1      90      159       82       102        58    85      80       68   \n",
       "2      83      172       83       160        65    62      60       59   \n",
       "3      45      112       50       100        51    68      65       60   \n",
       "4      60      110       65       110        55    60      45       55   \n",
       "\n",
       "   In_Sat SA_Arrthymia  \n",
       "0      98         None  \n",
       "1      97         None  \n",
       "2     100         None  \n",
       "3      97         None  \n",
       "4      98         None  \n",
       "\n",
       "[5 rows x 58 columns]"
      ]
     },
     "execution_count": 2,
     "metadata": {},
     "output_type": "execute_result"
    }
   ],
   "source": [
    "df1 = pd.read_csv('sa_play.csv') \n",
    "df1 = df1.drop(columns = ['Unnamed: 0', 'Date'])\n",
    "df2 = pd.read_csv('sa_all(play).csv') \n",
    "df2 = df2.drop(columns = ['Unnamed: 0', 'Date'])\n",
    "df = pd.concat([df1, df2], axis=0, join='outer')\n",
    "df.head()"
   ]
  },
  {
   "cell_type": "code",
   "execution_count": 3,
   "id": "95bd20bf",
   "metadata": {},
   "outputs": [
    {
     "name": "stdout",
     "output_type": "stream",
     "text": [
      "合併前df1的維度: (2525, 58)\n",
      "合併前df2的維度: (1862, 58)\n",
      "df1合併df2的維度: (4387, 58)\n"
     ]
    }
   ],
   "source": [
    "print('合併前df1的維度:',df1.shape)\n",
    "print('合併前df2的維度:',df2.shape)\n",
    "print('df1合併df2的維度:',df.shape)"
   ]
  },
  {
   "cell_type": "code",
   "execution_count": 4,
   "id": "e0325f95",
   "metadata": {},
   "outputs": [],
   "source": [
    "feature_list = ['Surgery', 'ASA', 'Emergency', 'Age', 'Height', 'BW', 'BMI', 'Gender', 'IBW',\n",
    "               'BSA', 'LBW', 'HTN', 'DM', 'Arrthymia', 'Pregnancy', 'Ankylosing_Spine',\n",
    "               'Spine_OP_Hx', 'Anal_OP', 'CSF volume', 'Heavy_Plain', 'LA_dose', 'Fentanyl_dose',\n",
    "               'Injection_Site', 'Needle_size', 'Needle_Bevel', 'Patient_Postition', 'Experience',\n",
    "               'SA_Level_1st']"
   ]
  },
  {
   "cell_type": "code",
   "execution_count": 5,
   "id": "595eea0f",
   "metadata": {},
   "outputs": [],
   "source": [
    "X = df[feature_list].drop('SA_Level_1st', axis=1)\n",
    "y = df[feature_list].SA_Level_1st"
   ]
  },
  {
   "cell_type": "code",
   "execution_count": 6,
   "id": "e5e9092d",
   "metadata": {},
   "outputs": [
    {
     "name": "stdout",
     "output_type": "stream",
     "text": [
      "Surgery               object\n",
      "ASA                    int64\n",
      "Emergency             object\n",
      "Age                    int64\n",
      "Height               float64\n",
      "BW                   float64\n",
      "BMI                  float64\n",
      "Gender                object\n",
      "IBW                  float64\n",
      "BSA                  float64\n",
      "LBW                  float64\n",
      "HTN                   object\n",
      "DM                    object\n",
      "Arrthymia             object\n",
      "Pregnancy             object\n",
      "Ankylosing_Spine      object\n",
      "Spine_OP_Hx           object\n",
      "Anal_OP               object\n",
      "CSF volume           float64\n",
      "Heavy_Plain           object\n",
      "LA_dose              float64\n",
      "Fentanyl_dose          int64\n",
      "Injection_Site        object\n",
      "Needle_size           object\n",
      "Needle_Bevel          object\n",
      "Patient_Postition     object\n",
      "Experience            object\n",
      "dtype: object\n"
     ]
    }
   ],
   "source": [
    "print(X.dtypes)\n",
    "categorical_features_indices = np.where(X.dtypes != float)[0]"
   ]
  },
  {
   "cell_type": "code",
   "execution_count": 7,
   "id": "15b84386",
   "metadata": {},
   "outputs": [],
   "source": [
    "train_X, test_X, train_y, test_y = train_test_split(X, y, test_size=0.2, random_state= 20220216, stratify=y)"
   ]
  },
  {
   "cell_type": "code",
   "execution_count": 8,
   "id": "c135b933",
   "metadata": {},
   "outputs": [
    {
     "name": "stdout",
     "output_type": "stream",
     "text": [
      "train_X維度: (3509, 27)\n",
      "test_X維度: (878, 27)\n",
      "train_y筆數: (3509,)\n",
      "test_y筆數: (878,)\n"
     ]
    }
   ],
   "source": [
    "print(\"train_X維度:\", train_X.shape)\n",
    "print(\"test_X維度:\", test_X.shape)\n",
    "print(\"train_y筆數:\", train_y.shape)\n",
    "print(\"test_y筆數:\", test_y.shape)"
   ]
  },
  {
   "cell_type": "code",
   "execution_count": 9,
   "id": "42bf1bad",
   "metadata": {},
   "outputs": [],
   "source": [
    "clf = CatBoostClassifier(loss_function='MultiClass',\n",
    "                        eval_metric='AUC',\n",
    "                        learning_rate=0.01,\n",
    "                        iterations=10000,\n",
    "                        random_seed=20220216)"
   ]
  },
  {
   "cell_type": "code",
   "execution_count": 10,
   "id": "02172e54",
   "metadata": {
    "scrolled": true
   },
   "outputs": [
    {
     "data": {
      "application/vnd.jupyter.widget-view+json": {
       "model_id": "816d5faf735d4343b48fbe6a4a6bd950",
       "version_major": 2,
       "version_minor": 0
      },
      "text/plain": [
       "MetricVisualizer(layout=Layout(align_self='stretch', height='500px'))"
      ]
     },
     "metadata": {},
     "output_type": "display_data"
    },
    {
     "name": "stdout",
     "output_type": "stream",
     "text": [
      "0:\ttest: 0.5848502\tbest: 0.5848502 (0)\ttotal: 268ms\tremaining: 44m 40s\n",
      "100:\ttest: 0.5870935\tbest: 0.6014167 (81)\ttotal: 9.3s\tremaining: 15m 11s\n",
      "200:\ttest: 0.5804260\tbest: 0.6014167 (81)\ttotal: 21s\tremaining: 17m 2s\n",
      "300:\ttest: 0.5801491\tbest: 0.6014167 (81)\ttotal: 33.2s\tremaining: 17m 48s\n",
      "400:\ttest: 0.5737624\tbest: 0.6014167 (81)\ttotal: 44.9s\tremaining: 17m 53s\n",
      "500:\ttest: 0.5782050\tbest: 0.6014167 (81)\ttotal: 57.8s\tremaining: 18m 15s\n",
      "600:\ttest: 0.5737835\tbest: 0.6014167 (81)\ttotal: 1m 10s\tremaining: 18m 22s\n",
      "700:\ttest: 0.5763487\tbest: 0.6014167 (81)\ttotal: 1m 24s\tremaining: 18m 44s\n",
      "800:\ttest: 0.5873402\tbest: 0.6014167 (81)\ttotal: 1m 38s\tremaining: 18m 46s\n",
      "900:\ttest: 0.5925079\tbest: 0.6014167 (81)\ttotal: 1m 53s\tremaining: 19m 9s\n",
      "1000:\ttest: 0.5990850\tbest: 0.6014167 (81)\ttotal: 2m 7s\tremaining: 19m 8s\n",
      "1100:\ttest: 0.6016594\tbest: 0.6072939 (1051)\ttotal: 2m 21s\tremaining: 19m 7s\n",
      "1200:\ttest: 0.6273455\tbest: 0.6285559 (1195)\ttotal: 2m 37s\tremaining: 19m 15s\n",
      "1300:\ttest: 0.6310160\tbest: 0.6327443 (1257)\ttotal: 2m 52s\tremaining: 19m 13s\n",
      "1400:\ttest: 0.6386543\tbest: 0.6431594 (1372)\ttotal: 3m 6s\tremaining: 19m 5s\n",
      "1500:\ttest: 0.6405438\tbest: 0.6431594 (1372)\ttotal: 3m 23s\tremaining: 19m 11s\n",
      "1600:\ttest: 0.6393078\tbest: 0.6431594 (1372)\ttotal: 3m 41s\tremaining: 19m 22s\n",
      "1700:\ttest: 0.6430220\tbest: 0.6446482 (1685)\ttotal: 3m 56s\tremaining: 19m 12s\n",
      "1800:\ttest: 0.6423959\tbest: 0.6447154 (1710)\ttotal: 4m 10s\tremaining: 19m 1s\n",
      "1900:\ttest: 0.6436744\tbest: 0.6447154 (1710)\ttotal: 4m 27s\tremaining: 18m 59s\n",
      "2000:\ttest: 0.6522207\tbest: 0.6529069 (1989)\ttotal: 4m 44s\tremaining: 18m 58s\n",
      "2100:\ttest: 0.6512709\tbest: 0.6534878 (2006)\ttotal: 5m\tremaining: 18m 49s\n",
      "2200:\ttest: 0.6507990\tbest: 0.6534878 (2006)\ttotal: 5m 14s\tremaining: 18m 34s\n",
      "2300:\ttest: 0.6524260\tbest: 0.6534878 (2006)\ttotal: 5m 30s\tremaining: 18m 26s\n",
      "2400:\ttest: 0.6531902\tbest: 0.6549353 (2327)\ttotal: 5m 45s\tremaining: 18m 14s\n",
      "2500:\ttest: 0.6505287\tbest: 0.6549353 (2327)\ttotal: 6m\tremaining: 18m 1s\n",
      "2600:\ttest: 0.6455012\tbest: 0.6549353 (2327)\ttotal: 6m 18s\tremaining: 17m 57s\n",
      "2700:\ttest: 0.6457428\tbest: 0.6549353 (2327)\ttotal: 6m 35s\tremaining: 17m 47s\n",
      "2800:\ttest: 0.6484466\tbest: 0.6549353 (2327)\ttotal: 6m 51s\tremaining: 17m 37s\n",
      "2900:\ttest: 0.6491846\tbest: 0.6551040 (2828)\ttotal: 7m 11s\tremaining: 17m 35s\n",
      "3000:\ttest: 0.6476242\tbest: 0.6551040 (2828)\ttotal: 7m 26s\tremaining: 17m 22s\n",
      "3100:\ttest: 0.6472914\tbest: 0.6551040 (2828)\ttotal: 7m 43s\tremaining: 17m 10s\n",
      "3200:\ttest: 0.6494873\tbest: 0.6551040 (2828)\ttotal: 8m 2s\tremaining: 17m 4s\n",
      "3300:\ttest: 0.6480114\tbest: 0.6551040 (2828)\ttotal: 8m 22s\tremaining: 16m 59s\n",
      "3400:\ttest: 0.6504481\tbest: 0.6551040 (2828)\ttotal: 8m 39s\tremaining: 16m 47s\n",
      "3500:\ttest: 0.6503196\tbest: 0.6551040 (2828)\ttotal: 9m\tremaining: 16m 43s\n",
      "3600:\ttest: 0.6502164\tbest: 0.6551040 (2828)\ttotal: 9m 17s\tremaining: 16m 30s\n",
      "3700:\ttest: 0.6523369\tbest: 0.6551040 (2828)\ttotal: 9m 35s\tremaining: 16m 18s\n",
      "3800:\ttest: 0.6532763\tbest: 0.6560346 (3770)\ttotal: 9m 52s\tremaining: 16m 6s\n",
      "3900:\ttest: 0.6555565\tbest: 0.6560346 (3770)\ttotal: 10m 8s\tremaining: 15m 51s\n",
      "4000:\ttest: 0.6604480\tbest: 0.6649621 (3985)\ttotal: 10m 25s\tremaining: 15m 37s\n",
      "4100:\ttest: 0.6642038\tbest: 0.6650040 (4077)\ttotal: 10m 48s\tremaining: 15m 33s\n",
      "4200:\ttest: 0.6641524\tbest: 0.6650211 (4138)\ttotal: 11m 5s\tremaining: 15m 18s\n",
      "4300:\ttest: 0.6635628\tbest: 0.6650211 (4138)\ttotal: 11m 22s\tremaining: 15m 3s\n",
      "4400:\ttest: 0.6641769\tbest: 0.6650211 (4138)\ttotal: 11m 40s\tremaining: 14m 50s\n",
      "4500:\ttest: 0.6640014\tbest: 0.6650211 (4138)\ttotal: 12m\tremaining: 14m 40s\n",
      "4600:\ttest: 0.6619907\tbest: 0.6650211 (4138)\ttotal: 12m 17s\tremaining: 14m 25s\n",
      "4700:\ttest: 0.6610361\tbest: 0.6650211 (4138)\ttotal: 12m 34s\tremaining: 14m 10s\n",
      "4800:\ttest: 0.6601646\tbest: 0.6650211 (4138)\ttotal: 12m 51s\tremaining: 13m 55s\n",
      "4900:\ttest: 0.6603508\tbest: 0.6650211 (4138)\ttotal: 13m 12s\tremaining: 13m 44s\n",
      "5000:\ttest: 0.6603809\tbest: 0.6650211 (4138)\ttotal: 13m 27s\tremaining: 13m 26s\n",
      "5100:\ttest: 0.6530237\tbest: 0.6650211 (4138)\ttotal: 13m 44s\tremaining: 13m 11s\n",
      "5200:\ttest: 0.6535458\tbest: 0.6650211 (4138)\ttotal: 14m\tremaining: 12m 55s\n",
      "5300:\ttest: 0.6544155\tbest: 0.6650211 (4138)\ttotal: 14m 15s\tremaining: 12m 38s\n",
      "5400:\ttest: 0.6532656\tbest: 0.6650211 (4138)\ttotal: 14m 31s\tremaining: 12m 22s\n",
      "5500:\ttest: 0.6587195\tbest: 0.6650211 (4138)\ttotal: 14m 49s\tremaining: 12m 7s\n",
      "5600:\ttest: 0.6528126\tbest: 0.6650211 (4138)\ttotal: 15m 7s\tremaining: 11m 52s\n",
      "5700:\ttest: 0.6524498\tbest: 0.6650211 (4138)\ttotal: 15m 26s\tremaining: 11m 38s\n",
      "5800:\ttest: 0.6513995\tbest: 0.6650211 (4138)\ttotal: 15m 43s\tremaining: 11m 23s\n",
      "5900:\ttest: 0.6508898\tbest: 0.6650211 (4138)\ttotal: 16m 1s\tremaining: 11m 7s\n",
      "6000:\ttest: 0.6504658\tbest: 0.6650211 (4138)\ttotal: 16m 15s\tremaining: 10m 50s\n",
      "6100:\ttest: 0.6505337\tbest: 0.6650211 (4138)\ttotal: 16m 30s\tremaining: 10m 33s\n",
      "6200:\ttest: 0.6506219\tbest: 0.6650211 (4138)\ttotal: 16m 51s\tremaining: 10m 19s\n",
      "6300:\ttest: 0.6508304\tbest: 0.6650211 (4138)\ttotal: 17m 7s\tremaining: 10m 3s\n",
      "6400:\ttest: 0.6510414\tbest: 0.6650211 (4138)\ttotal: 17m 21s\tremaining: 9m 45s\n",
      "6500:\ttest: 0.6502807\tbest: 0.6650211 (4138)\ttotal: 17m 40s\tremaining: 9m 31s\n",
      "6600:\ttest: 0.6450114\tbest: 0.6650211 (4138)\ttotal: 17m 56s\tremaining: 9m 14s\n",
      "6700:\ttest: 0.6506286\tbest: 0.6650211 (4138)\ttotal: 18m 10s\tremaining: 8m 56s\n",
      "6800:\ttest: 0.6436078\tbest: 0.6650211 (4138)\ttotal: 18m 24s\tremaining: 8m 39s\n",
      "6900:\ttest: 0.6431513\tbest: 0.6650211 (4138)\ttotal: 18m 38s\tremaining: 8m 22s\n",
      "7000:\ttest: 0.6365210\tbest: 0.6650211 (4138)\ttotal: 18m 54s\tremaining: 8m 5s\n",
      "7100:\ttest: 0.6358120\tbest: 0.6650211 (4138)\ttotal: 19m 9s\tremaining: 7m 49s\n",
      "7200:\ttest: 0.6352887\tbest: 0.6650211 (4138)\ttotal: 19m 25s\tremaining: 7m 32s\n",
      "7300:\ttest: 0.6342845\tbest: 0.6650211 (4138)\ttotal: 19m 42s\tremaining: 7m 17s\n",
      "7400:\ttest: 0.6329073\tbest: 0.6650211 (4138)\ttotal: 20m 1s\tremaining: 7m 1s\n",
      "7500:\ttest: 0.6322644\tbest: 0.6650211 (4138)\ttotal: 20m 19s\tremaining: 6m 46s\n",
      "7600:\ttest: 0.6321921\tbest: 0.6650211 (4138)\ttotal: 20m 34s\tremaining: 6m 29s\n",
      "7700:\ttest: 0.6321420\tbest: 0.6650211 (4138)\ttotal: 20m 52s\tremaining: 6m 13s\n",
      "7800:\ttest: 0.6310484\tbest: 0.6650211 (4138)\ttotal: 21m 8s\tremaining: 5m 57s\n",
      "7900:\ttest: 0.6309715\tbest: 0.6650211 (4138)\ttotal: 21m 24s\tremaining: 5m 41s\n",
      "8000:\ttest: 0.6306923\tbest: 0.6650211 (4138)\ttotal: 21m 44s\tremaining: 5m 25s\n",
      "8100:\ttest: 0.6295894\tbest: 0.6650211 (4138)\ttotal: 22m 4s\tremaining: 5m 10s\n",
      "8200:\ttest: 0.6289319\tbest: 0.6650211 (4138)\ttotal: 22m 23s\tremaining: 4m 54s\n",
      "8300:\ttest: 0.6297004\tbest: 0.6650211 (4138)\ttotal: 22m 42s\tremaining: 4m 38s\n",
      "8400:\ttest: 0.6285239\tbest: 0.6650211 (4138)\ttotal: 22m 58s\tremaining: 4m 22s\n",
      "8500:\ttest: 0.6282546\tbest: 0.6650211 (4138)\ttotal: 23m 13s\tremaining: 4m 5s\n",
      "8600:\ttest: 0.6286078\tbest: 0.6650211 (4138)\ttotal: 23m 31s\tremaining: 3m 49s\n",
      "8700:\ttest: 0.6276704\tbest: 0.6650211 (4138)\ttotal: 23m 49s\tremaining: 3m 33s\n",
      "8800:\ttest: 0.6270008\tbest: 0.6650211 (4138)\ttotal: 24m 4s\tremaining: 3m 16s\n",
      "8900:\ttest: 0.6281799\tbest: 0.6650211 (4138)\ttotal: 24m 21s\tremaining: 3m\n",
      "9000:\ttest: 0.6282556\tbest: 0.6650211 (4138)\ttotal: 24m 35s\tremaining: 2m 43s\n",
      "9100:\ttest: 0.6285456\tbest: 0.6650211 (4138)\ttotal: 24m 50s\tremaining: 2m 27s\n",
      "9200:\ttest: 0.6285667\tbest: 0.6650211 (4138)\ttotal: 25m 5s\tremaining: 2m 10s\n",
      "9300:\ttest: 0.6277749\tbest: 0.6650211 (4138)\ttotal: 25m 21s\tremaining: 1m 54s\n",
      "9400:\ttest: 0.6278144\tbest: 0.6650211 (4138)\ttotal: 25m 35s\tremaining: 1m 37s\n",
      "9500:\ttest: 0.6275142\tbest: 0.6650211 (4138)\ttotal: 25m 52s\tremaining: 1m 21s\n",
      "9600:\ttest: 0.6266120\tbest: 0.6650211 (4138)\ttotal: 26m 9s\tremaining: 1m 5s\n",
      "9700:\ttest: 0.6267272\tbest: 0.6650211 (4138)\ttotal: 26m 24s\tremaining: 48.8s\n",
      "9800:\ttest: 0.6261377\tbest: 0.6650211 (4138)\ttotal: 26m 39s\tremaining: 32.5s\n",
      "9900:\ttest: 0.6253093\tbest: 0.6650211 (4138)\ttotal: 26m 54s\tremaining: 16.1s\n",
      "9999:\ttest: 0.6255742\tbest: 0.6650211 (4138)\ttotal: 27m 8s\tremaining: 0us\n",
      "\n",
      "bestTest = 0.6650210782\n",
      "bestIteration = 4138\n",
      "\n",
      "Shrink model to first 4139 iterations.\n"
     ]
    },
    {
     "data": {
      "text/plain": [
       "<catboost.core.CatBoostClassifier at 0x2887ba3a490>"
      ]
     },
     "execution_count": 10,
     "metadata": {},
     "output_type": "execute_result"
    }
   ],
   "source": [
    "clf.fit(train_X, train_y, eval_set=(test_X, test_y), cat_features=categorical_features_indices, verbose=100, plot=True)"
   ]
  },
  {
   "cell_type": "code",
   "execution_count": 11,
   "id": "884d1846",
   "metadata": {},
   "outputs": [],
   "source": [
    "predict = clf.predict(test_X)\n"
   ]
  },
  {
   "cell_type": "code",
   "execution_count": 27,
   "id": "23e7da67",
   "metadata": {},
   "outputs": [
    {
     "data": {
      "text/plain": [
       "0.3815489749430524"
      ]
     },
     "execution_count": 27,
     "metadata": {},
     "output_type": "execute_result"
    }
   ],
   "source": [
    "accuracy_score(predict, test_y)"
   ]
  },
  {
   "cell_type": "code",
   "execution_count": 12,
   "id": "201a2c05",
   "metadata": {},
   "outputs": [
    {
     "name": "stdout",
     "output_type": "stream",
     "text": [
      "              precision    recall  f1-score   support\n",
      "\n",
      "    Above T4       0.00      0.00      0.00         8\n",
      "        L2-4       0.00      0.00      0.00         1\n",
      "      T10-12       0.22      0.05      0.08       110\n",
      "      T12-L2       0.00      0.00      0.00        10\n",
      "        T4-6       0.44      0.58      0.50       295\n",
      "        T6-8       0.35      0.52      0.42       293\n",
      "       T8-10       0.25      0.03      0.06       161\n",
      "\n",
      "    accuracy                           0.38       878\n",
      "   macro avg       0.18      0.17      0.15       878\n",
      "weighted avg       0.34      0.38      0.33       878\n",
      "\n"
     ]
    },
    {
     "name": "stderr",
     "output_type": "stream",
     "text": [
      "C:\\Users\\sdfe0\\anaconda3\\lib\\site-packages\\sklearn\\metrics\\_classification.py:1245: UndefinedMetricWarning: Precision and F-score are ill-defined and being set to 0.0 in labels with no predicted samples. Use `zero_division` parameter to control this behavior.\n",
      "  _warn_prf(average, modifier, msg_start, len(result))\n",
      "C:\\Users\\sdfe0\\anaconda3\\lib\\site-packages\\sklearn\\metrics\\_classification.py:1245: UndefinedMetricWarning: Precision and F-score are ill-defined and being set to 0.0 in labels with no predicted samples. Use `zero_division` parameter to control this behavior.\n",
      "  _warn_prf(average, modifier, msg_start, len(result))\n",
      "C:\\Users\\sdfe0\\anaconda3\\lib\\site-packages\\sklearn\\metrics\\_classification.py:1245: UndefinedMetricWarning: Precision and F-score are ill-defined and being set to 0.0 in labels with no predicted samples. Use `zero_division` parameter to control this behavior.\n",
      "  _warn_prf(average, modifier, msg_start, len(result))\n"
     ]
    }
   ],
   "source": [
    "print(classification_report(test_y, predict))"
   ]
  },
  {
   "cell_type": "code",
   "execution_count": 13,
   "id": "b0706797",
   "metadata": {},
   "outputs": [],
   "source": [
    "# 繪製混淆矩陣\n",
    "def plot_confusion_matrix(cm, classes, normalize=False, title='Confusion matrix', cmap=plt.cm.Blues):\n",
    "    \"\"\"\n",
    "    - cm : 計算出的混淆矩陣的值\n",
    "    - classes : 混淆矩阵中每一列每一行對應的行\n",
    "    - normalize : True:顯示百分比, False:顯示個數\n",
    "    \"\"\"\n",
    "    if normalize:\n",
    "        cm = cm.astype('float') / cm.sum(axis=1)[:, np.newaxis]\n",
    "        print(\"顯示百分比：\")\n",
    "        np.set_printoptions(formatter={'float': '{: 0.2f}'.format})\n",
    "        print(cm)\n",
    "    else:\n",
    "        print('顯示具體數字：')\n",
    "        print(cm)\n",
    "    plt.imshow(cm, interpolation='nearest', cmap=cmap)\n",
    "    plt.title(title)\n",
    "    plt.colorbar()\n",
    "    tick_marks = np.arange(len(classes))\n",
    "    plt.xticks(tick_marks, classes, rotation=45)\n",
    "    plt.yticks(tick_marks, classes)\n",
    "    # matplotlib版本問題，如果不加下面這行Code，則繪製的混淆矩陣上下只能顯示一半，有的版本的matplotlib不需要下面的Code，需試一下即可\n",
    "    plt.ylim(len(classes) - 0.5, -0.5)\n",
    "    fmt = '.2f' if normalize else 'd'\n",
    "    thresh = cm.max() / 2.\n",
    "    for i, j in itertools.product(range(cm.shape[0]), range(cm.shape[1])):\n",
    "        plt.text(j, i, format(cm[i, j], fmt),\n",
    "                 horizontalalignment=\"center\",\n",
    "                 color=\"white\" if cm[i, j] > thresh else \"black\")\n",
    "    plt.tight_layout()\n",
    "    plt.ylabel('True label')\n",
    "    plt.xlabel('Predicted label')\n",
    "    plt.show()\n",
    "    "
   ]
  },
  {
   "cell_type": "code",
   "execution_count": 14,
   "id": "2b853800",
   "metadata": {},
   "outputs": [
    {
     "name": "stdout",
     "output_type": "stream",
     "text": [
      "顯示具體數字：\n",
      "[[  0   0   0   0   0   0   0]\n",
      " [  0   0   0   0   0   0   0]\n",
      " [  3   0   5   3   4   3   5]\n",
      " [  0   0   0   0   0   0   0]\n",
      " [  5   0  32   2 172 130  52]\n",
      " [  0   1  69   3 117 153  99]\n",
      " [  0   0   4   2   2   7   5]]\n"
     ]
    },
    {
     "data": {
      "image/png": "[encoded data removed]",
      "text/plain": [
       "<Figure size 432x288 with 2 Axes>"
      ]
     },
     "metadata": {
      "needs_background": "light"
     },
     "output_type": "display_data"
    }
   ],
   "source": [
    "classes = ['Above T4', 'L2-4', 'T10-12', 'T12-L2', 'T4-6', 'T6-8', 'T8-10']\n",
    "cm = confusion_matrix(predict, test_y)\n",
    "plot_confusion_matrix(cm, classes=classes, normalize=False, title='confusion matrix')"
   ]
  },
  {
   "cell_type": "code",
   "execution_count": null,
   "id": "15980e2b",
   "metadata": {},
   "outputs": [],
   "source": []
  }
 ],
 "metadata": {
  "kernelspec": {
   "display_name": "Python 3",
   "language": "python",
   "name": "python3"
  },
  "language_info": {
   "codemirror_mode": {
    "name": "ipython",
    "version": 3
   },
   "file_extension": ".py",
   "mimetype": "text/x-python",
   "name": "python",
   "nbconvert_exporter": "python",
   "pygments_lexer": "ipython3",
   "version": "3.8.8"
  }
 },
 "nbformat": 4,
 "nbformat_minor": 5
}
