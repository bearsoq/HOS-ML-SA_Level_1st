{
 "cells": [
  {
   "cell_type": "code",
   "execution_count": 9,
   "id": "8d300119",
   "metadata": {},
   "outputs": [],
   "source": [
    "import os\n",
    "import pandas as pd\n",
    "import numpy as np \n",
    "from sklearn.preprocessing import LabelEncoder\n",
    "from sklearn.model_selection import train_test_split\n",
    "from sklearn.metrics import confusion_matrix\n",
    "from sklearn.metrics import accuracy_score\n",
    "from sklearn.metrics import precision_score, recall_score, f1_score\n",
    "from sklearn.metrics import classification_report\n",
    "from sklearn.linear_model import LogisticRegression\n",
    "import seaborn as sns\n",
    "import matplotlib.pyplot as plt\n",
    "import itertools"
   ]
  },
  {
   "cell_type": "code",
   "execution_count": 2,
   "id": "b691cb2b",
   "metadata": {},
   "outputs": [
    {
     "data": {
      "text/html": [
       "<div>\n",
       "<style scoped>\n",
       "    .dataframe tbody tr th:only-of-type {\n",
       "        vertical-align: middle;\n",
       "    }\n",
       "\n",
       "    .dataframe tbody tr th {\n",
       "        vertical-align: top;\n",
       "    }\n",
       "\n",
       "    .dataframe thead th {\n",
       "        text-align: right;\n",
       "    }\n",
       "</style>\n",
       "<table border=\"1\" class=\"dataframe\">\n",
       "  <thead>\n",
       "    <tr style=\"text-align: right;\">\n",
       "      <th></th>\n",
       "      <th>Surgery</th>\n",
       "      <th>ASA</th>\n",
       "      <th>Emergency</th>\n",
       "      <th>Age</th>\n",
       "      <th>Height</th>\n",
       "      <th>BW</th>\n",
       "      <th>BMI</th>\n",
       "      <th>Gender</th>\n",
       "      <th>IBW</th>\n",
       "      <th>BSA</th>\n",
       "      <th>...</th>\n",
       "      <th>In_DBP</th>\n",
       "      <th>In_5_SBP</th>\n",
       "      <th>In_5_DBP</th>\n",
       "      <th>In_10_SBP</th>\n",
       "      <th>In_10_DBP</th>\n",
       "      <th>In_HR</th>\n",
       "      <th>In_5_HR</th>\n",
       "      <th>In_10_HR</th>\n",
       "      <th>In_Sat</th>\n",
       "      <th>SA_Arrthymia</th>\n",
       "    </tr>\n",
       "  </thead>\n",
       "  <tbody>\n",
       "    <tr>\n",
       "      <th>0</th>\n",
       "      <td>OBS</td>\n",
       "      <td>1</td>\n",
       "      <td>No</td>\n",
       "      <td>34</td>\n",
       "      <td>158.0</td>\n",
       "      <td>48.0</td>\n",
       "      <td>19.23</td>\n",
       "      <td>Female</td>\n",
       "      <td>50.60</td>\n",
       "      <td>1.45</td>\n",
       "      <td>...</td>\n",
       "      <td>60</td>\n",
       "      <td>115</td>\n",
       "      <td>70</td>\n",
       "      <td>120</td>\n",
       "      <td>65</td>\n",
       "      <td>80</td>\n",
       "      <td>85</td>\n",
       "      <td>92</td>\n",
       "      <td>98</td>\n",
       "      <td>None</td>\n",
       "    </tr>\n",
       "    <tr>\n",
       "      <th>1</th>\n",
       "      <td>OBS</td>\n",
       "      <td>2</td>\n",
       "      <td>No</td>\n",
       "      <td>36</td>\n",
       "      <td>168.0</td>\n",
       "      <td>84.0</td>\n",
       "      <td>29.76</td>\n",
       "      <td>Female</td>\n",
       "      <td>59.70</td>\n",
       "      <td>1.98</td>\n",
       "      <td>...</td>\n",
       "      <td>90</td>\n",
       "      <td>159</td>\n",
       "      <td>82</td>\n",
       "      <td>102</td>\n",
       "      <td>58</td>\n",
       "      <td>85</td>\n",
       "      <td>80</td>\n",
       "      <td>68</td>\n",
       "      <td>97</td>\n",
       "      <td>None</td>\n",
       "    </tr>\n",
       "    <tr>\n",
       "      <th>2</th>\n",
       "      <td>GU</td>\n",
       "      <td>3</td>\n",
       "      <td>Yes</td>\n",
       "      <td>91</td>\n",
       "      <td>162.0</td>\n",
       "      <td>61.0</td>\n",
       "      <td>23.24</td>\n",
       "      <td>Male</td>\n",
       "      <td>58.74</td>\n",
       "      <td>1.66</td>\n",
       "      <td>...</td>\n",
       "      <td>83</td>\n",
       "      <td>172</td>\n",
       "      <td>83</td>\n",
       "      <td>160</td>\n",
       "      <td>65</td>\n",
       "      <td>62</td>\n",
       "      <td>60</td>\n",
       "      <td>59</td>\n",
       "      <td>100</td>\n",
       "      <td>None</td>\n",
       "    </tr>\n",
       "    <tr>\n",
       "      <th>3</th>\n",
       "      <td>GU</td>\n",
       "      <td>3</td>\n",
       "      <td>No</td>\n",
       "      <td>93</td>\n",
       "      <td>168.0</td>\n",
       "      <td>65.8</td>\n",
       "      <td>23.31</td>\n",
       "      <td>Male</td>\n",
       "      <td>64.20</td>\n",
       "      <td>1.75</td>\n",
       "      <td>...</td>\n",
       "      <td>45</td>\n",
       "      <td>112</td>\n",
       "      <td>50</td>\n",
       "      <td>100</td>\n",
       "      <td>51</td>\n",
       "      <td>68</td>\n",
       "      <td>65</td>\n",
       "      <td>60</td>\n",
       "      <td>97</td>\n",
       "      <td>None</td>\n",
       "    </tr>\n",
       "    <tr>\n",
       "      <th>4</th>\n",
       "      <td>Ortho</td>\n",
       "      <td>1</td>\n",
       "      <td>No</td>\n",
       "      <td>20</td>\n",
       "      <td>176.0</td>\n",
       "      <td>88.0</td>\n",
       "      <td>28.41</td>\n",
       "      <td>Male</td>\n",
       "      <td>71.48</td>\n",
       "      <td>2.07</td>\n",
       "      <td>...</td>\n",
       "      <td>60</td>\n",
       "      <td>110</td>\n",
       "      <td>65</td>\n",
       "      <td>110</td>\n",
       "      <td>55</td>\n",
       "      <td>60</td>\n",
       "      <td>45</td>\n",
       "      <td>55</td>\n",
       "      <td>98</td>\n",
       "      <td>None</td>\n",
       "    </tr>\n",
       "  </tbody>\n",
       "</table>\n",
       "<p>5 rows × 58 columns</p>\n",
       "</div>"
      ],
      "text/plain": [
       "  Surgery  ASA Emergency  Age  Height    BW    BMI  Gender    IBW   BSA  ...  \\\n",
       "0     OBS    1        No   34   158.0  48.0  19.23  Female  50.60  1.45  ...   \n",
       "1     OBS    2        No   36   168.0  84.0  29.76  Female  59.70  1.98  ...   \n",
       "2      GU    3       Yes   91   162.0  61.0  23.24    Male  58.74  1.66  ...   \n",
       "3      GU    3        No   93   168.0  65.8  23.31    Male  64.20  1.75  ...   \n",
       "4   Ortho    1        No   20   176.0  88.0  28.41    Male  71.48  2.07  ...   \n",
       "\n",
       "   In_DBP In_5_SBP In_5_DBP In_10_SBP In_10_DBP In_HR In_5_HR In_10_HR  \\\n",
       "0      60      115       70       120        65    80      85       92   \n",
       "1      90      159       82       102        58    85      80       68   \n",
       "2      83      172       83       160        65    62      60       59   \n",
       "3      45      112       50       100        51    68      65       60   \n",
       "4      60      110       65       110        55    60      45       55   \n",
       "\n",
       "   In_Sat SA_Arrthymia  \n",
       "0      98         None  \n",
       "1      97         None  \n",
       "2     100         None  \n",
       "3      97         None  \n",
       "4      98         None  \n",
       "\n",
       "[5 rows x 58 columns]"
      ]
     },
     "execution_count": 2,
     "metadata": {},
     "output_type": "execute_result"
    }
   ],
   "source": [
    "df1 = pd.read_csv('sa_play.csv') \n",
    "df1 = df1.drop(columns = ['Unnamed: 0', 'Date'])\n",
    "df2 = pd.read_csv('sa_all(play).csv') \n",
    "df2 = df2.drop(columns = ['Unnamed: 0', 'Date'])\n",
    "df = pd.concat([df1, df2], axis=0, join='outer')\n",
    "df.head()"
   ]
  },
  {
   "cell_type": "code",
   "execution_count": 3,
   "id": "5016b793",
   "metadata": {},
   "outputs": [],
   "source": [
    "feature_list = ['Surgery', 'ASA', 'Emergency', 'Age', 'Height', 'BW', 'BMI', 'Gender', 'IBW',\n",
    "               'BSA', 'LBW', 'HTN', 'DM', 'Arrthymia', 'Pregnancy', 'Ankylosing_Spine',\n",
    "               'Spine_OP_Hx', 'Anal_OP', 'CSF volume', 'Heavy_Plain', 'LA_dose', 'Fentanyl_dose',\n",
    "               'Injection_Site', 'Needle_size', 'Needle_Bevel', 'Patient_Postition', 'Experience',\n",
    "               'SA_Level_1st']"
   ]
  },
  {
   "cell_type": "code",
   "execution_count": 4,
   "id": "eb0514da",
   "metadata": {},
   "outputs": [],
   "source": [
    "le = LabelEncoder()"
   ]
  },
  {
   "cell_type": "code",
   "execution_count": 5,
   "id": "5dd97944",
   "metadata": {},
   "outputs": [],
   "source": [
    "X = df[feature_list].drop('SA_Level_1st', axis=1)\n",
    "X = pd.get_dummies(X)\n",
    "y = le.fit_transform(df['SA_Level_1st'])"
   ]
  },
  {
   "cell_type": "code",
   "execution_count": 6,
   "id": "62fca78c",
   "metadata": {},
   "outputs": [],
   "source": [
    "train_X, test_X, train_y, test_y = train_test_split(X, y, test_size=0.2, random_state= 20220216, stratify=y)"
   ]
  },
  {
   "cell_type": "code",
   "execution_count": 7,
   "id": "54a255d1",
   "metadata": {},
   "outputs": [
    {
     "name": "stdout",
     "output_type": "stream",
     "text": [
      "train_X維度: (3509, 59)\n",
      "test_X維度: (878, 59)\n",
      "train_y筆數: (3509,)\n",
      "test_y筆數: (878,)\n"
     ]
    }
   ],
   "source": [
    "print(\"train_X維度:\", train_X.shape)\n",
    "print(\"test_X維度:\", test_X.shape)\n",
    "print(\"train_y筆數:\", train_y.shape)\n",
    "print(\"test_y筆數:\", test_y.shape)"
   ]
  },
  {
   "cell_type": "code",
   "execution_count": 11,
   "id": "da12133d",
   "metadata": {},
   "outputs": [
    {
     "name": "stderr",
     "output_type": "stream",
     "text": [
      "C:\\Users\\sdfe0\\anaconda3\\lib\\site-packages\\sklearn\\linear_model\\_logistic.py:763: ConvergenceWarning: lbfgs failed to converge (status=1):\n",
      "STOP: TOTAL NO. of ITERATIONS REACHED LIMIT.\n",
      "\n",
      "Increase the number of iterations (max_iter) or scale the data as shown in:\n",
      "    https://scikit-learn.org/stable/modules/preprocessing.html\n",
      "Please also refer to the documentation for alternative solver options:\n",
      "    https://scikit-learn.org/stable/modules/linear_model.html#logistic-regression\n",
      "  n_iter_i = _check_optimize_result(\n",
      "C:\\Users\\sdfe0\\anaconda3\\lib\\site-packages\\sklearn\\linear_model\\_logistic.py:763: ConvergenceWarning: lbfgs failed to converge (status=1):\n",
      "STOP: TOTAL NO. of ITERATIONS REACHED LIMIT.\n",
      "\n",
      "Increase the number of iterations (max_iter) or scale the data as shown in:\n",
      "    https://scikit-learn.org/stable/modules/preprocessing.html\n",
      "Please also refer to the documentation for alternative solver options:\n",
      "    https://scikit-learn.org/stable/modules/linear_model.html#logistic-regression\n",
      "  n_iter_i = _check_optimize_result(\n",
      "C:\\Users\\sdfe0\\anaconda3\\lib\\site-packages\\sklearn\\linear_model\\_logistic.py:763: ConvergenceWarning: lbfgs failed to converge (status=1):\n",
      "STOP: TOTAL NO. of ITERATIONS REACHED LIMIT.\n",
      "\n",
      "Increase the number of iterations (max_iter) or scale the data as shown in:\n",
      "    https://scikit-learn.org/stable/modules/preprocessing.html\n",
      "Please also refer to the documentation for alternative solver options:\n",
      "    https://scikit-learn.org/stable/modules/linear_model.html#logistic-regression\n",
      "  n_iter_i = _check_optimize_result(\n",
      "C:\\Users\\sdfe0\\anaconda3\\lib\\site-packages\\sklearn\\linear_model\\_logistic.py:763: ConvergenceWarning: lbfgs failed to converge (status=1):\n",
      "STOP: TOTAL NO. of ITERATIONS REACHED LIMIT.\n",
      "\n",
      "Increase the number of iterations (max_iter) or scale the data as shown in:\n",
      "    https://scikit-learn.org/stable/modules/preprocessing.html\n",
      "Please also refer to the documentation for alternative solver options:\n",
      "    https://scikit-learn.org/stable/modules/linear_model.html#logistic-regression\n",
      "  n_iter_i = _check_optimize_result(\n",
      "C:\\Users\\sdfe0\\anaconda3\\lib\\site-packages\\sklearn\\linear_model\\_logistic.py:763: ConvergenceWarning: lbfgs failed to converge (status=1):\n",
      "STOP: TOTAL NO. of ITERATIONS REACHED LIMIT.\n",
      "\n",
      "Increase the number of iterations (max_iter) or scale the data as shown in:\n",
      "    https://scikit-learn.org/stable/modules/preprocessing.html\n",
      "Please also refer to the documentation for alternative solver options:\n",
      "    https://scikit-learn.org/stable/modules/linear_model.html#logistic-regression\n",
      "  n_iter_i = _check_optimize_result(\n",
      "C:\\Users\\sdfe0\\anaconda3\\lib\\site-packages\\sklearn\\linear_model\\_logistic.py:763: ConvergenceWarning: lbfgs failed to converge (status=1):\n",
      "STOP: TOTAL NO. of ITERATIONS REACHED LIMIT.\n",
      "\n",
      "Increase the number of iterations (max_iter) or scale the data as shown in:\n",
      "    https://scikit-learn.org/stable/modules/preprocessing.html\n",
      "Please also refer to the documentation for alternative solver options:\n",
      "    https://scikit-learn.org/stable/modules/linear_model.html#logistic-regression\n",
      "  n_iter_i = _check_optimize_result(\n",
      "C:\\Users\\sdfe0\\anaconda3\\lib\\site-packages\\sklearn\\linear_model\\_logistic.py:763: ConvergenceWarning: lbfgs failed to converge (status=1):\n",
      "STOP: TOTAL NO. of ITERATIONS REACHED LIMIT.\n",
      "\n",
      "Increase the number of iterations (max_iter) or scale the data as shown in:\n",
      "    https://scikit-learn.org/stable/modules/preprocessing.html\n",
      "Please also refer to the documentation for alternative solver options:\n",
      "    https://scikit-learn.org/stable/modules/linear_model.html#logistic-regression\n",
      "  n_iter_i = _check_optimize_result(\n"
     ]
    },
    {
     "data": {
      "text/plain": [
       "LogisticRegression(C=100000.0, multi_class='ovr')"
      ]
     },
     "execution_count": 11,
     "metadata": {},
     "output_type": "execute_result"
    }
   ],
   "source": [
    "lr = LogisticRegression(C=1e5, multi_class='ovr')\n",
    "lr.fit(train_X, train_y)"
   ]
  },
  {
   "cell_type": "code",
   "execution_count": 13,
   "id": "89ddceae",
   "metadata": {},
   "outputs": [
    {
     "data": {
      "text/plain": [
       "array([5, 4, 5, 4, 4, 4, 4, 5, 4, 4, 5, 5, 5, 4, 4, 5, 5, 4, 4, 4, 4, 4,\n",
       "       4, 5, 4, 4, 4, 5, 5, 6, 4, 5, 5, 5, 5, 4, 5, 4, 4, 4, 5, 5, 5, 4,\n",
       "       5, 5, 5, 5, 5, 5, 5, 2, 5, 4, 5, 4, 5, 4, 4, 4, 4, 5, 4, 4, 5, 4,\n",
       "       5, 4, 5, 5, 5, 4, 5, 5, 5, 5, 4, 5, 5, 4, 5, 5, 4, 5, 4, 5, 5, 4,\n",
       "       5, 4, 5, 4, 5, 5, 5, 4, 5, 5, 5, 4, 4, 5, 4, 4, 5, 4, 4, 5, 5, 4,\n",
       "       5, 5, 5, 4, 5, 4, 4, 5, 4, 5, 5, 4, 5, 5, 4, 5, 5, 5, 5, 4, 5, 5,\n",
       "       5, 4, 4, 4, 4, 4, 5, 4, 5, 5, 5, 2, 6, 5, 4, 4, 5, 4, 5, 5, 4, 4,\n",
       "       5, 5, 4, 4, 4, 5, 4, 4, 5, 5, 4, 4, 5, 5, 5, 4, 4, 4, 4, 5, 5, 5,\n",
       "       5, 4, 4, 5, 5, 5, 5, 5, 2, 4, 4, 5, 4, 5, 4, 5, 4, 5, 5, 5, 4, 4,\n",
       "       4, 5, 4, 4, 4, 2, 4, 4, 2, 5, 5, 5, 5, 5, 4, 5, 5, 4, 4, 5, 5, 5,\n",
       "       4, 4, 5, 5, 5, 4, 2, 5, 5, 4, 4, 4, 4, 5, 5, 5, 5, 4, 4, 4, 6, 5,\n",
       "       5, 4, 4, 5, 4, 5, 2, 4, 4, 5, 4, 5, 5, 4, 4, 4, 4, 4, 5, 4, 4, 5,\n",
       "       5, 5, 6, 4, 5, 5, 2, 4, 5, 5, 5, 5, 4, 5, 5, 4, 4, 5, 4, 4, 5, 4,\n",
       "       5, 5, 5, 5, 4, 4, 4, 4, 5, 5, 5, 5, 4, 5, 5, 5, 4, 5, 5, 5, 4, 2,\n",
       "       4, 5, 5, 5, 5, 5, 5, 4, 4, 4, 4, 5, 5, 4, 4, 5, 5, 4, 5, 2, 5, 5,\n",
       "       5, 2, 5, 5, 5, 5, 5, 5, 5, 4, 4, 4, 4, 5, 5, 5, 5, 5, 4, 5, 6, 4,\n",
       "       5, 5, 5, 4, 5, 5, 5, 5, 5, 5, 4, 4, 5, 4, 5, 4, 5, 5, 4, 5, 5, 5,\n",
       "       6, 5, 4, 5, 5, 5, 4, 5, 5, 5, 4, 5, 4, 5, 4, 4, 5, 5, 5, 4, 5, 4,\n",
       "       4, 6, 5, 5, 4, 4, 5, 4, 5, 4, 4, 5, 5, 5, 4, 5, 4, 4, 5, 4, 5, 4,\n",
       "       4, 4, 4, 5, 4, 4, 5, 4, 4, 4, 4, 4, 5, 4, 5, 5, 4, 5, 4, 5, 4, 5,\n",
       "       2, 4, 4, 5, 4, 5, 5, 5, 5, 5, 6, 4, 4, 5, 5, 4, 6, 4, 5, 4, 4, 5,\n",
       "       4, 5, 5, 5, 5, 4, 4, 4, 4, 5, 5, 5, 5, 5, 5, 5, 5, 5, 5, 4, 4, 5,\n",
       "       4, 5, 5, 4, 5, 5, 4, 5, 4, 5, 4, 4, 4, 5, 5, 5, 5, 5, 6, 5, 5, 5,\n",
       "       4, 4, 5, 4, 4, 2, 5, 5, 5, 5, 5, 5, 4, 4, 5, 5, 5, 5, 2, 5, 5, 4,\n",
       "       6, 4, 5, 5, 4, 5, 4, 5, 5, 5, 4, 5, 4, 5, 5, 6, 5, 4, 5, 5, 6, 4,\n",
       "       5, 5, 5, 4, 4, 4, 5, 4, 5, 4, 5, 4, 5, 5, 4, 4, 4, 4, 4, 5, 5, 5,\n",
       "       5, 4, 5, 4, 5, 5, 4, 5, 6, 4, 4, 5, 4, 4, 4, 5, 5, 5, 5, 4, 5, 5,\n",
       "       5, 5, 5, 5, 5, 5, 5, 4, 5, 5, 5, 5, 5, 5, 2, 4, 4, 5, 5, 5, 4, 5,\n",
       "       4, 4, 4, 5, 4, 5, 5, 5, 4, 4, 4, 4, 4, 5, 4, 4, 5, 5, 4, 4, 4, 5,\n",
       "       4, 4, 5, 4, 5, 4, 5, 5, 5, 4, 4, 4, 5, 2, 4, 5, 4, 4, 5, 5, 4, 5,\n",
       "       5, 4, 5, 5, 4, 5, 4, 4, 4, 4, 4, 4, 5, 4, 5, 5, 5, 5, 4, 5, 4, 5,\n",
       "       5, 5, 4, 5, 4, 4, 4, 4, 4, 4, 4, 5, 4, 5, 5, 5, 5, 2, 5, 5, 5, 5,\n",
       "       4, 4, 5, 4, 5, 4, 5, 4, 5, 5, 5, 5, 4, 4, 5, 4, 4, 5, 4, 4, 5, 4,\n",
       "       5, 4, 5, 4, 4, 4, 5, 4, 4, 5, 4, 5, 4, 5, 5, 5, 4, 4, 4, 4, 4, 5,\n",
       "       4, 5, 4, 4, 4, 4, 4, 4, 5, 5, 5, 5, 5, 5, 5, 5, 6, 4, 4, 5, 5, 5,\n",
       "       4, 4, 5, 5, 4, 5, 4, 4, 4, 4, 4, 4, 4, 5, 5, 5, 4, 5, 4, 4, 4, 5,\n",
       "       4, 5, 5, 4, 5, 4, 5, 4, 2, 5, 5, 5, 4, 5, 4, 5, 5, 4, 5, 5, 4, 5,\n",
       "       5, 5, 5, 4, 5, 5, 4, 5, 5, 5, 5, 5, 5, 5, 4, 5, 5, 4, 5, 5, 4, 5,\n",
       "       5, 5, 5, 4, 4, 5, 4, 5, 5, 5, 4, 5, 5, 4, 5, 5, 4, 4, 2, 2, 5, 4,\n",
       "       5, 5, 4, 5, 5, 5, 5, 5, 4, 4, 5, 4, 6, 4, 5, 5, 5, 4, 4, 4])"
      ]
     },
     "execution_count": 13,
     "metadata": {},
     "output_type": "execute_result"
    }
   ],
   "source": [
    "predict = lr.predict(test_X)\n",
    "predict"
   ]
  },
  {
   "cell_type": "code",
   "execution_count": 14,
   "id": "9e51c507",
   "metadata": {},
   "outputs": [
    {
     "data": {
      "text/plain": [
       "0.4123006833712984"
      ]
     },
     "execution_count": 14,
     "metadata": {},
     "output_type": "execute_result"
    }
   ],
   "source": [
    "accuracy_score(predict, test_y)"
   ]
  },
  {
   "cell_type": "code",
   "execution_count": 15,
   "id": "88158087",
   "metadata": {},
   "outputs": [
    {
     "name": "stdout",
     "output_type": "stream",
     "text": [
      "              precision    recall  f1-score   support\n",
      "\n",
      "           0       0.00      0.00      0.00         8\n",
      "           1       0.00      0.00      0.00         1\n",
      "           2       0.30      0.05      0.09       110\n",
      "           3       0.00      0.00      0.00        10\n",
      "           4       0.48      0.61      0.54       295\n",
      "           5       0.36      0.58      0.44       293\n",
      "           6       0.50      0.05      0.09       161\n",
      "\n",
      "    accuracy                           0.41       878\n",
      "   macro avg       0.23      0.18      0.17       878\n",
      "weighted avg       0.41      0.41      0.36       878\n",
      "\n"
     ]
    },
    {
     "name": "stderr",
     "output_type": "stream",
     "text": [
      "C:\\Users\\sdfe0\\anaconda3\\lib\\site-packages\\sklearn\\metrics\\_classification.py:1245: UndefinedMetricWarning: Precision and F-score are ill-defined and being set to 0.0 in labels with no predicted samples. Use `zero_division` parameter to control this behavior.\n",
      "  _warn_prf(average, modifier, msg_start, len(result))\n",
      "C:\\Users\\sdfe0\\anaconda3\\lib\\site-packages\\sklearn\\metrics\\_classification.py:1245: UndefinedMetricWarning: Precision and F-score are ill-defined and being set to 0.0 in labels with no predicted samples. Use `zero_division` parameter to control this behavior.\n",
      "  _warn_prf(average, modifier, msg_start, len(result))\n",
      "C:\\Users\\sdfe0\\anaconda3\\lib\\site-packages\\sklearn\\metrics\\_classification.py:1245: UndefinedMetricWarning: Precision and F-score are ill-defined and being set to 0.0 in labels with no predicted samples. Use `zero_division` parameter to control this behavior.\n",
      "  _warn_prf(average, modifier, msg_start, len(result))\n"
     ]
    }
   ],
   "source": [
    "print(classification_report(test_y, predict))"
   ]
  },
  {
   "cell_type": "code",
   "execution_count": 16,
   "id": "b58b7383",
   "metadata": {},
   "outputs": [],
   "source": [
    "# 繪製混淆矩陣\n",
    "def plot_confusion_matrix(cm, classes, normalize=False, title='Confusion matrix', cmap=plt.cm.Blues):\n",
    "    \"\"\"\n",
    "    - cm : 計算出的混淆矩陣的值\n",
    "    - classes : 混淆矩阵中每一列每一行對應的行\n",
    "    - normalize : True:顯示百分比, False:顯示個數\n",
    "    \"\"\"\n",
    "    if normalize:\n",
    "        cm = cm.astype('float') / cm.sum(axis=1)[:, np.newaxis]\n",
    "        print(\"顯示百分比：\")\n",
    "        np.set_printoptions(formatter={'float': '{: 0.2f}'.format})\n",
    "        print(cm)\n",
    "    else:\n",
    "        print('顯示具體數字：')\n",
    "        print(cm)\n",
    "    plt.imshow(cm, interpolation='nearest', cmap=cmap)\n",
    "    plt.title(title)\n",
    "    plt.colorbar()\n",
    "    tick_marks = np.arange(len(classes))\n",
    "    plt.xticks(tick_marks, classes, rotation=45)\n",
    "    plt.yticks(tick_marks, classes)\n",
    "    # matplotlib版本問題，如果不加下面這行Code，則繪製的混淆矩陣上下只能顯示一半，有的版本的matplotlib不需要下面的Code，需試一下即可\n",
    "    plt.ylim(len(classes) - 0.5, -0.5)\n",
    "    fmt = '.2f' if normalize else 'd'\n",
    "    thresh = cm.max() / 2.\n",
    "    for i, j in itertools.product(range(cm.shape[0]), range(cm.shape[1])):\n",
    "        plt.text(j, i, format(cm[i, j], fmt),\n",
    "                 horizontalalignment=\"center\",\n",
    "                 color=\"white\" if cm[i, j] > thresh else \"black\")\n",
    "    plt.tight_layout()\n",
    "    plt.ylabel('True label')\n",
    "    plt.xlabel('Predicted label')\n",
    "    plt.show()"
   ]
  },
  {
   "cell_type": "code",
   "execution_count": 17,
   "id": "d5b5fce4",
   "metadata": {},
   "outputs": [
    {
     "name": "stdout",
     "output_type": "stream",
     "text": [
      "顯示具體數字：\n",
      "[[  0   0   0   0   0   0   0]\n",
      " [  0   0   0   0   0   0   0]\n",
      " [  1   0   6   3   1   4   5]\n",
      " [  0   0   0   0   0   0   0]\n",
      " [  3   0  26   2 179 115  46]\n",
      " [  4   1  76   5 114 169 102]\n",
      " [  0   0   2   0   1   5   8]]\n"
     ]
    },
    {
     "data": {
      "image/png": "[encoded data removed]",
      "text/plain": [
       "<Figure size 432x288 with 2 Axes>"
      ]
     },
     "metadata": {
      "needs_background": "light"
     },
     "output_type": "display_data"
    }
   ],
   "source": [
    "classes = ['Above T4', 'L2-4', 'T10-12', 'T12-L2', 'T4-6', 'T6-8', 'T8-10']\n",
    "cm = confusion_matrix(predict, test_y)\n",
    "plot_confusion_matrix(cm, classes=classes, normalize=False, title='confusion matrix')"
   ]
  },
  {
   "cell_type": "code",
   "execution_count": null,
   "id": "2a265492",
   "metadata": {},
   "outputs": [],
   "source": []
  }
 ],
 "metadata": {
  "kernelspec": {
   "display_name": "Python 3",
   "language": "python",
   "name": "python3"
  },
  "language_info": {
   "codemirror_mode": {
    "name": "ipython",
    "version": 3
   },
   "file_extension": ".py",
   "mimetype": "text/x-python",
   "name": "python",
   "nbconvert_exporter": "python",
   "pygments_lexer": "ipython3",
   "version": "3.8.8"
  }
 },
 "nbformat": 4,
 "nbformat_minor": 5
}
