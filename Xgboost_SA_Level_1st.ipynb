{
 "cells": [
  {
   "cell_type": "code",
   "execution_count": 1,
   "id": "c7bf0ce4",
   "metadata": {},
   "outputs": [],
   "source": [
    "import os\n",
    "import pandas as pd\n",
    "import numpy as np \n",
    "from sklearn.preprocessing import LabelEncoder\n",
    "from sklearn.model_selection import train_test_split\n",
    "from sklearn.metrics import confusion_matrix\n",
    "from sklearn.metrics import accuracy_score\n",
    "from sklearn.metrics import precision_score, recall_score, f1_score\n",
    "from sklearn.metrics import classification_report\n",
    "from xgboost.sklearn import XGBClassifier\n",
    "import seaborn as sns\n",
    "import matplotlib.pyplot as plt\n",
    "import itertools"
   ]
  },
  {
   "cell_type": "code",
   "execution_count": 2,
   "id": "704e2408",
   "metadata": {},
   "outputs": [
    {
     "data": {
      "text/html": [
       "<div>\n",
       "<style scoped>\n",
       "    .dataframe tbody tr th:only-of-type {\n",
       "        vertical-align: middle;\n",
       "    }\n",
       "\n",
       "    .dataframe tbody tr th {\n",
       "        vertical-align: top;\n",
       "    }\n",
       "\n",
       "    .dataframe thead th {\n",
       "        text-align: right;\n",
       "    }\n",
       "</style>\n",
       "<table border=\"1\" class=\"dataframe\">\n",
       "  <thead>\n",
       "    <tr style=\"text-align: right;\">\n",
       "      <th></th>\n",
       "      <th>Surgery</th>\n",
       "      <th>ASA</th>\n",
       "      <th>Emergency</th>\n",
       "      <th>Age</th>\n",
       "      <th>Height</th>\n",
       "      <th>BW</th>\n",
       "      <th>BMI</th>\n",
       "      <th>Gender</th>\n",
       "      <th>IBW</th>\n",
       "      <th>BSA</th>\n",
       "      <th>...</th>\n",
       "      <th>In_DBP</th>\n",
       "      <th>In_5_SBP</th>\n",
       "      <th>In_5_DBP</th>\n",
       "      <th>In_10_SBP</th>\n",
       "      <th>In_10_DBP</th>\n",
       "      <th>In_HR</th>\n",
       "      <th>In_5_HR</th>\n",
       "      <th>In_10_HR</th>\n",
       "      <th>In_Sat</th>\n",
       "      <th>SA_Arrthymia</th>\n",
       "    </tr>\n",
       "  </thead>\n",
       "  <tbody>\n",
       "    <tr>\n",
       "      <th>0</th>\n",
       "      <td>OBS</td>\n",
       "      <td>1</td>\n",
       "      <td>No</td>\n",
       "      <td>34</td>\n",
       "      <td>158.0</td>\n",
       "      <td>48.0</td>\n",
       "      <td>19.23</td>\n",
       "      <td>Female</td>\n",
       "      <td>50.60</td>\n",
       "      <td>1.45</td>\n",
       "      <td>...</td>\n",
       "      <td>60</td>\n",
       "      <td>115</td>\n",
       "      <td>70</td>\n",
       "      <td>120</td>\n",
       "      <td>65</td>\n",
       "      <td>80</td>\n",
       "      <td>85</td>\n",
       "      <td>92</td>\n",
       "      <td>98</td>\n",
       "      <td>None</td>\n",
       "    </tr>\n",
       "    <tr>\n",
       "      <th>1</th>\n",
       "      <td>OBS</td>\n",
       "      <td>2</td>\n",
       "      <td>No</td>\n",
       "      <td>36</td>\n",
       "      <td>168.0</td>\n",
       "      <td>84.0</td>\n",
       "      <td>29.76</td>\n",
       "      <td>Female</td>\n",
       "      <td>59.70</td>\n",
       "      <td>1.98</td>\n",
       "      <td>...</td>\n",
       "      <td>90</td>\n",
       "      <td>159</td>\n",
       "      <td>82</td>\n",
       "      <td>102</td>\n",
       "      <td>58</td>\n",
       "      <td>85</td>\n",
       "      <td>80</td>\n",
       "      <td>68</td>\n",
       "      <td>97</td>\n",
       "      <td>None</td>\n",
       "    </tr>\n",
       "    <tr>\n",
       "      <th>2</th>\n",
       "      <td>GU</td>\n",
       "      <td>3</td>\n",
       "      <td>Yes</td>\n",
       "      <td>91</td>\n",
       "      <td>162.0</td>\n",
       "      <td>61.0</td>\n",
       "      <td>23.24</td>\n",
       "      <td>Male</td>\n",
       "      <td>58.74</td>\n",
       "      <td>1.66</td>\n",
       "      <td>...</td>\n",
       "      <td>83</td>\n",
       "      <td>172</td>\n",
       "      <td>83</td>\n",
       "      <td>160</td>\n",
       "      <td>65</td>\n",
       "      <td>62</td>\n",
       "      <td>60</td>\n",
       "      <td>59</td>\n",
       "      <td>100</td>\n",
       "      <td>None</td>\n",
       "    </tr>\n",
       "    <tr>\n",
       "      <th>3</th>\n",
       "      <td>GU</td>\n",
       "      <td>3</td>\n",
       "      <td>No</td>\n",
       "      <td>93</td>\n",
       "      <td>168.0</td>\n",
       "      <td>65.8</td>\n",
       "      <td>23.31</td>\n",
       "      <td>Male</td>\n",
       "      <td>64.20</td>\n",
       "      <td>1.75</td>\n",
       "      <td>...</td>\n",
       "      <td>45</td>\n",
       "      <td>112</td>\n",
       "      <td>50</td>\n",
       "      <td>100</td>\n",
       "      <td>51</td>\n",
       "      <td>68</td>\n",
       "      <td>65</td>\n",
       "      <td>60</td>\n",
       "      <td>97</td>\n",
       "      <td>None</td>\n",
       "    </tr>\n",
       "    <tr>\n",
       "      <th>4</th>\n",
       "      <td>Ortho</td>\n",
       "      <td>1</td>\n",
       "      <td>No</td>\n",
       "      <td>20</td>\n",
       "      <td>176.0</td>\n",
       "      <td>88.0</td>\n",
       "      <td>28.41</td>\n",
       "      <td>Male</td>\n",
       "      <td>71.48</td>\n",
       "      <td>2.07</td>\n",
       "      <td>...</td>\n",
       "      <td>60</td>\n",
       "      <td>110</td>\n",
       "      <td>65</td>\n",
       "      <td>110</td>\n",
       "      <td>55</td>\n",
       "      <td>60</td>\n",
       "      <td>45</td>\n",
       "      <td>55</td>\n",
       "      <td>98</td>\n",
       "      <td>None</td>\n",
       "    </tr>\n",
       "  </tbody>\n",
       "</table>\n",
       "<p>5 rows × 58 columns</p>\n",
       "</div>"
      ],
      "text/plain": [
       "  Surgery  ASA Emergency  Age  Height    BW    BMI  Gender    IBW   BSA  ...  \\\n",
       "0     OBS    1        No   34   158.0  48.0  19.23  Female  50.60  1.45  ...   \n",
       "1     OBS    2        No   36   168.0  84.0  29.76  Female  59.70  1.98  ...   \n",
       "2      GU    3       Yes   91   162.0  61.0  23.24    Male  58.74  1.66  ...   \n",
       "3      GU    3        No   93   168.0  65.8  23.31    Male  64.20  1.75  ...   \n",
       "4   Ortho    1        No   20   176.0  88.0  28.41    Male  71.48  2.07  ...   \n",
       "\n",
       "   In_DBP In_5_SBP In_5_DBP In_10_SBP In_10_DBP In_HR In_5_HR In_10_HR  \\\n",
       "0      60      115       70       120        65    80      85       92   \n",
       "1      90      159       82       102        58    85      80       68   \n",
       "2      83      172       83       160        65    62      60       59   \n",
       "3      45      112       50       100        51    68      65       60   \n",
       "4      60      110       65       110        55    60      45       55   \n",
       "\n",
       "   In_Sat SA_Arrthymia  \n",
       "0      98         None  \n",
       "1      97         None  \n",
       "2     100         None  \n",
       "3      97         None  \n",
       "4      98         None  \n",
       "\n",
       "[5 rows x 58 columns]"
      ]
     },
     "execution_count": 2,
     "metadata": {},
     "output_type": "execute_result"
    }
   ],
   "source": [
    "df1 = pd.read_csv('sa_play.csv') \n",
    "df1 = df1.drop(columns = ['Unnamed: 0', 'Date'])\n",
    "df2 = pd.read_csv('sa_all(play).csv') \n",
    "df2 = df2.drop(columns = ['Unnamed: 0', 'Date'])\n",
    "df = pd.concat([df1, df2], axis=0, join='outer')\n",
    "df.head()"
   ]
  },
  {
   "cell_type": "code",
   "execution_count": 3,
   "id": "3918fa4b",
   "metadata": {},
   "outputs": [],
   "source": [
    "feature_list = ['Surgery', 'ASA', 'Emergency', 'Age', 'Height', 'BW', 'BMI', 'Gender', 'IBW',\n",
    "               'BSA', 'LBW', 'HTN', 'DM', 'Arrthymia', 'Pregnancy', 'Ankylosing_Spine',\n",
    "               'Spine_OP_Hx', 'Anal_OP', 'CSF volume', 'Heavy_Plain', 'LA_dose', 'Fentanyl_dose',\n",
    "               'Injection_Site', 'Needle_size', 'Needle_Bevel', 'Patient_Postition', 'Experience',\n",
    "               'SA_Level_1st']"
   ]
  },
  {
   "cell_type": "code",
   "execution_count": 4,
   "id": "57f05374",
   "metadata": {},
   "outputs": [],
   "source": [
    "le = LabelEncoder()"
   ]
  },
  {
   "cell_type": "code",
   "execution_count": 5,
   "id": "4987523f",
   "metadata": {},
   "outputs": [],
   "source": [
    "X = df[feature_list].drop('SA_Level_1st', axis=1)\n",
    "X = pd.get_dummies(X)\n",
    "y = le.fit_transform(df['SA_Level_1st'])"
   ]
  },
  {
   "cell_type": "code",
   "execution_count": 6,
   "id": "0cac88ff",
   "metadata": {},
   "outputs": [],
   "source": [
    "train_X, test_X, train_y, test_y = train_test_split(X, y, test_size=0.2, random_state= 20220216, stratify=y)"
   ]
  },
  {
   "cell_type": "code",
   "execution_count": 7,
   "id": "5c1645aa",
   "metadata": {},
   "outputs": [
    {
     "name": "stdout",
     "output_type": "stream",
     "text": [
      "train_X維度: (3509, 59)\n",
      "test_X維度: (878, 59)\n",
      "train_y筆數: (3509,)\n",
      "test_y筆數: (878,)\n"
     ]
    }
   ],
   "source": [
    "print(\"train_X維度:\", train_X.shape)\n",
    "print(\"test_X維度:\", test_X.shape)\n",
    "print(\"train_y筆數:\", train_y.shape)\n",
    "print(\"test_y筆數:\", test_y.shape)"
   ]
  },
  {
   "cell_type": "code",
   "execution_count": 9,
   "id": "2963dcaa",
   "metadata": {},
   "outputs": [
    {
     "data": {
      "text/plain": [
       "7"
      ]
     },
     "execution_count": 9,
     "metadata": {},
     "output_type": "execute_result"
    }
   ],
   "source": [
    "class_num = len(np.unique(y))\n",
    "class_num"
   ]
  },
  {
   "cell_type": "code",
   "execution_count": 10,
   "id": "5fb9b285",
   "metadata": {},
   "outputs": [],
   "source": [
    "xgb = XGBClassifier(booster='gbtree',\n",
    "             n_estimators=100,\n",
    "             learning_rate=0.1,\n",
    "             objective='multi:softmax',\n",
    "             num_class=class_num,\n",
    "              random_state=20220216)"
   ]
  },
  {
   "cell_type": "code",
   "execution_count": 14,
   "id": "1811b22f",
   "metadata": {},
   "outputs": [
    {
     "name": "stdout",
     "output_type": "stream",
     "text": [
      "[0]\tvalidation_0-merror:0.51981\tvalidation_1-merror:0.62870\n",
      "[1]\tvalidation_0-merror:0.50955\tvalidation_1-merror:0.62984\n",
      "[2]\tvalidation_0-merror:0.50185\tvalidation_1-merror:0.61731\n",
      "[3]\tvalidation_0-merror:0.49644\tvalidation_1-merror:0.60820\n",
      "[4]\tvalidation_0-merror:0.49530\tvalidation_1-merror:0.61389\n",
      "[5]\tvalidation_0-merror:0.48760\tvalidation_1-merror:0.60706\n",
      "[6]\tvalidation_0-merror:0.48133\tvalidation_1-merror:0.61048\n",
      "[7]\tvalidation_0-merror:0.47962\tvalidation_1-merror:0.61048\n",
      "[8]\tvalidation_0-merror:0.47193\tvalidation_1-merror:0.61731\n",
      "[9]\tvalidation_0-merror:0.46680\tvalidation_1-merror:0.61389\n",
      "[10]\tvalidation_0-merror:0.46424\tvalidation_1-merror:0.62187\n",
      "[11]\tvalidation_0-merror:0.45968\tvalidation_1-merror:0.61731\n",
      "[12]\tvalidation_0-merror:0.46025\tvalidation_1-merror:0.62073\n",
      "[13]\tvalidation_0-merror:0.45682\tvalidation_1-merror:0.61503\n",
      "[14]\tvalidation_0-merror:0.45483\tvalidation_1-merror:0.61276\n",
      "[15]\tvalidation_0-merror:0.45540\tvalidation_1-merror:0.61389\n",
      "[16]\tvalidation_0-merror:0.45569\tvalidation_1-merror:0.61276\n",
      "[17]\tvalidation_0-merror:0.45198\tvalidation_1-merror:0.61731\n",
      "[18]\tvalidation_0-merror:0.44942\tvalidation_1-merror:0.61731\n",
      "[19]\tvalidation_0-merror:0.44799\tvalidation_1-merror:0.61503\n",
      "[20]\tvalidation_0-merror:0.44571\tvalidation_1-merror:0.61162\n",
      "[21]\tvalidation_0-merror:0.44115\tvalidation_1-merror:0.60934\n",
      "[22]\tvalidation_0-merror:0.43659\tvalidation_1-merror:0.60706\n",
      "[23]\tvalidation_0-merror:0.43289\tvalidation_1-merror:0.60934\n",
      "[24]\tvalidation_0-merror:0.43175\tvalidation_1-merror:0.60820\n",
      "[25]\tvalidation_0-merror:0.43032\tvalidation_1-merror:0.61503\n",
      "[26]\tvalidation_0-merror:0.42861\tvalidation_1-merror:0.61617\n",
      "[27]\tvalidation_0-merror:0.42804\tvalidation_1-merror:0.61731\n",
      "[28]\tvalidation_0-merror:0.42548\tvalidation_1-merror:0.61845\n",
      "[29]\tvalidation_0-merror:0.42348\tvalidation_1-merror:0.61731\n",
      "[30]\tvalidation_0-merror:0.42063\tvalidation_1-merror:0.62073\n",
      "[31]\tvalidation_0-merror:0.42006\tvalidation_1-merror:0.62301\n",
      "[32]\tvalidation_0-merror:0.41636\tvalidation_1-merror:0.62528\n",
      "[33]\tvalidation_0-merror:0.41379\tvalidation_1-merror:0.62642\n",
      "[34]\tvalidation_0-merror:0.40980\tvalidation_1-merror:0.62642\n",
      "[35]\tvalidation_0-merror:0.40524\tvalidation_1-merror:0.62642\n",
      "[36]\tvalidation_0-merror:0.40154\tvalidation_1-merror:0.62642\n",
      "[37]\tvalidation_0-merror:0.39897\tvalidation_1-merror:0.62415\n",
      "[38]\tvalidation_0-merror:0.39356\tvalidation_1-merror:0.62073\n",
      "[39]\tvalidation_0-merror:0.38986\tvalidation_1-merror:0.61959\n",
      "[40]\tvalidation_0-merror:0.38587\tvalidation_1-merror:0.62073\n",
      "[41]\tvalidation_0-merror:0.38188\tvalidation_1-merror:0.62301\n",
      "[42]\tvalidation_0-merror:0.37931\tvalidation_1-merror:0.62187\n",
      "[43]\tvalidation_0-merror:0.37789\tvalidation_1-merror:0.61959\n",
      "[44]\tvalidation_0-merror:0.37675\tvalidation_1-merror:0.61959\n",
      "[45]\tvalidation_0-merror:0.37304\tvalidation_1-merror:0.62187\n",
      "[46]\tvalidation_0-merror:0.36791\tvalidation_1-merror:0.62301\n",
      "[47]\tvalidation_0-merror:0.36649\tvalidation_1-merror:0.62415\n",
      "[48]\tvalidation_0-merror:0.36563\tvalidation_1-merror:0.61959\n",
      "[49]\tvalidation_0-merror:0.36307\tvalidation_1-merror:0.61845\n",
      "[50]\tvalidation_0-merror:0.35851\tvalidation_1-merror:0.62073\n",
      "[51]\tvalidation_0-merror:0.35822\tvalidation_1-merror:0.62301\n",
      "[52]\tvalidation_0-merror:0.35537\tvalidation_1-merror:0.61845\n",
      "[53]\tvalidation_0-merror:0.34996\tvalidation_1-merror:0.61845\n",
      "[54]\tvalidation_0-merror:0.34853\tvalidation_1-merror:0.62187\n",
      "[55]\tvalidation_0-merror:0.34739\tvalidation_1-merror:0.62187\n",
      "[56]\tvalidation_0-merror:0.34283\tvalidation_1-merror:0.62073\n",
      "[57]\tvalidation_0-merror:0.33970\tvalidation_1-merror:0.62415\n",
      "[58]\tvalidation_0-merror:0.33770\tvalidation_1-merror:0.62642\n",
      "[59]\tvalidation_0-merror:0.33770\tvalidation_1-merror:0.62528\n",
      "[60]\tvalidation_0-merror:0.33457\tvalidation_1-merror:0.62642\n",
      "[61]\tvalidation_0-merror:0.33400\tvalidation_1-merror:0.62415\n",
      "[62]\tvalidation_0-merror:0.32944\tvalidation_1-merror:0.62642\n",
      "[63]\tvalidation_0-merror:0.32801\tvalidation_1-merror:0.62870\n",
      "[64]\tvalidation_0-merror:0.32602\tvalidation_1-merror:0.62984\n",
      "[65]\tvalidation_0-merror:0.32231\tvalidation_1-merror:0.63098\n",
      "[66]\tvalidation_0-merror:0.32003\tvalidation_1-merror:0.62870\n",
      "[67]\tvalidation_0-merror:0.31861\tvalidation_1-merror:0.62870\n",
      "[68]\tvalidation_0-merror:0.31718\tvalidation_1-merror:0.63553\n",
      "[69]\tvalidation_0-merror:0.31433\tvalidation_1-merror:0.63326\n",
      "[70]\tvalidation_0-merror:0.31091\tvalidation_1-merror:0.62984\n",
      "[71]\tvalidation_0-merror:0.30949\tvalidation_1-merror:0.62984\n",
      "[72]\tvalidation_0-merror:0.30806\tvalidation_1-merror:0.62984\n",
      "[73]\tvalidation_0-merror:0.30664\tvalidation_1-merror:0.62870\n",
      "[74]\tvalidation_0-merror:0.30664\tvalidation_1-merror:0.62642\n",
      "[75]\tvalidation_0-merror:0.30265\tvalidation_1-merror:0.62756\n",
      "[76]\tvalidation_0-merror:0.30151\tvalidation_1-merror:0.62301\n",
      "[77]\tvalidation_0-merror:0.30123\tvalidation_1-merror:0.62301\n",
      "[78]\tvalidation_0-merror:0.29866\tvalidation_1-merror:0.62870\n",
      "[79]\tvalidation_0-merror:0.29781\tvalidation_1-merror:0.62642\n",
      "[80]\tvalidation_0-merror:0.29524\tvalidation_1-merror:0.62642\n",
      "[81]\tvalidation_0-merror:0.29296\tvalidation_1-merror:0.62756\n",
      "[82]\tvalidation_0-merror:0.28869\tvalidation_1-merror:0.62870\n",
      "[83]\tvalidation_0-merror:0.28840\tvalidation_1-merror:0.62756\n",
      "[84]\tvalidation_0-merror:0.28698\tvalidation_1-merror:0.62984\n",
      "[85]\tvalidation_0-merror:0.28698\tvalidation_1-merror:0.62528\n",
      "[86]\tvalidation_0-merror:0.28384\tvalidation_1-merror:0.62187\n",
      "[87]\tvalidation_0-merror:0.28156\tvalidation_1-merror:0.61959\n",
      "[88]\tvalidation_0-merror:0.28071\tvalidation_1-merror:0.62073\n",
      "[89]\tvalidation_0-merror:0.28014\tvalidation_1-merror:0.62187\n",
      "[90]\tvalidation_0-merror:0.27985\tvalidation_1-merror:0.62301\n",
      "[91]\tvalidation_0-merror:0.27985\tvalidation_1-merror:0.62415\n",
      "[92]\tvalidation_0-merror:0.27957\tvalidation_1-merror:0.62187\n",
      "[93]\tvalidation_0-merror:0.27615\tvalidation_1-merror:0.62187\n",
      "[94]\tvalidation_0-merror:0.27159\tvalidation_1-merror:0.62301\n",
      "[95]\tvalidation_0-merror:0.26902\tvalidation_1-merror:0.62415\n",
      "[96]\tvalidation_0-merror:0.26731\tvalidation_1-merror:0.62301\n",
      "[97]\tvalidation_0-merror:0.26646\tvalidation_1-merror:0.62415\n",
      "[98]\tvalidation_0-merror:0.26475\tvalidation_1-merror:0.62415\n",
      "[99]\tvalidation_0-merror:0.26104\tvalidation_1-merror:0.62528\n"
     ]
    },
    {
     "data": {
      "text/plain": [
       "XGBClassifier(base_score=0.5, booster='gbtree', colsample_bylevel=1,\n",
       "              colsample_bynode=1, colsample_bytree=1, enable_categorical=False,\n",
       "              gamma=0, gpu_id=-1, importance_type=None,\n",
       "              interaction_constraints='', learning_rate=0.1, max_delta_step=0,\n",
       "              max_depth=6, min_child_weight=1, missing=nan,\n",
       "              monotone_constraints='()', n_estimators=100, n_jobs=8,\n",
       "              num_class=7, num_parallel_tree=1, objective='multi:softprob',\n",
       "              predictor='auto', random_state=20220216, reg_alpha=0,\n",
       "              reg_lambda=1, scale_pos_weight=None, subsample=1,\n",
       "              tree_method='exact', validate_parameters=1, verbosity=None)"
      ]
     },
     "execution_count": 14,
     "metadata": {},
     "output_type": "execute_result"
    }
   ],
   "source": [
    "eval_set = [(train_X, train_y), (test_X, test_y)]\n",
    "xgb.fit(train_X, train_y, eval_metric=\"merror\", eval_set=eval_set,verbose=True)"
   ]
  },
  {
   "cell_type": "code",
   "execution_count": 15,
   "id": "637d8e6e",
   "metadata": {},
   "outputs": [
    {
     "data": {
      "text/plain": [
       "array([2, 5, 5, 4, 4, 4, 4, 5, 4, 4, 4, 5, 4, 4, 4, 5, 5, 5, 5, 4, 4, 4,\n",
       "       4, 5, 4, 5, 4, 5, 6, 6, 4, 5, 2, 6, 6, 4, 4, 4, 4, 4, 5, 5, 5, 5,\n",
       "       5, 4, 5, 4, 5, 5, 4, 2, 5, 5, 5, 4, 5, 6, 4, 4, 5, 5, 4, 2, 5, 4,\n",
       "       5, 4, 5, 5, 5, 4, 5, 4, 5, 5, 4, 5, 5, 4, 5, 5, 4, 5, 5, 5, 4, 4,\n",
       "       5, 5, 4, 5, 5, 5, 5, 4, 5, 5, 4, 5, 5, 5, 4, 4, 5, 4, 5, 5, 5, 4,\n",
       "       5, 5, 4, 5, 6, 4, 4, 4, 5, 5, 6, 5, 5, 5, 4, 4, 5, 6, 4, 4, 5, 4,\n",
       "       4, 4, 4, 4, 5, 4, 5, 4, 5, 6, 5, 2, 5, 4, 4, 4, 6, 4, 4, 5, 5, 4,\n",
       "       6, 5, 5, 4, 5, 5, 4, 4, 5, 4, 4, 4, 5, 5, 2, 4, 5, 5, 4, 5, 5, 5,\n",
       "       5, 4, 4, 4, 6, 6, 4, 5, 2, 5, 5, 2, 5, 5, 4, 5, 4, 6, 5, 5, 6, 4,\n",
       "       5, 5, 4, 4, 5, 3, 5, 4, 6, 5, 5, 6, 5, 4, 5, 5, 5, 4, 4, 5, 5, 5,\n",
       "       5, 4, 5, 5, 5, 4, 5, 5, 6, 5, 5, 5, 5, 4, 3, 5, 5, 4, 4, 4, 3, 4,\n",
       "       5, 5, 4, 5, 5, 6, 5, 4, 4, 5, 4, 6, 5, 4, 4, 4, 4, 4, 5, 5, 5, 5,\n",
       "       4, 4, 4, 4, 2, 4, 5, 4, 5, 5, 6, 4, 2, 5, 6, 4, 4, 5, 4, 4, 5, 5,\n",
       "       4, 6, 5, 5, 5, 5, 4, 4, 2, 5, 5, 5, 5, 2, 5, 6, 5, 5, 4, 4, 5, 5,\n",
       "       6, 4, 5, 4, 5, 5, 5, 2, 2, 4, 5, 5, 2, 6, 4, 4, 5, 4, 6, 6, 4, 4,\n",
       "       4, 2, 5, 5, 5, 5, 5, 4, 4, 5, 4, 4, 4, 5, 5, 5, 5, 5, 4, 5, 6, 4,\n",
       "       5, 5, 5, 5, 5, 4, 4, 5, 2, 2, 4, 5, 5, 5, 5, 4, 5, 5, 4, 4, 4, 6,\n",
       "       5, 5, 4, 6, 5, 5, 4, 4, 5, 4, 4, 5, 4, 5, 5, 4, 4, 4, 4, 4, 4, 5,\n",
       "       4, 5, 6, 5, 4, 4, 5, 4, 4, 4, 5, 5, 4, 6, 4, 4, 5, 4, 4, 5, 5, 4,\n",
       "       4, 4, 4, 5, 4, 4, 5, 5, 4, 5, 4, 5, 5, 5, 5, 5, 5, 4, 4, 5, 4, 5,\n",
       "       6, 6, 4, 5, 4, 5, 4, 5, 5, 6, 6, 4, 4, 6, 5, 4, 2, 4, 4, 5, 5, 5,\n",
       "       4, 4, 6, 5, 4, 4, 5, 5, 5, 5, 4, 2, 5, 5, 6, 5, 5, 5, 6, 4, 4, 5,\n",
       "       5, 5, 5, 5, 5, 5, 5, 5, 4, 5, 4, 4, 4, 6, 4, 5, 5, 5, 2, 5, 5, 5,\n",
       "       4, 4, 5, 4, 4, 2, 5, 6, 5, 5, 5, 4, 4, 4, 5, 5, 6, 6, 6, 5, 5, 5,\n",
       "       5, 4, 4, 6, 4, 5, 4, 2, 4, 4, 5, 4, 5, 5, 5, 4, 5, 4, 5, 4, 5, 6,\n",
       "       5, 4, 5, 2, 4, 5, 6, 4, 5, 4, 5, 4, 5, 5, 4, 5, 4, 5, 4, 5, 4, 4,\n",
       "       5, 4, 5, 5, 6, 5, 4, 5, 5, 5, 5, 5, 4, 5, 4, 5, 5, 5, 6, 5, 5, 5,\n",
       "       6, 5, 5, 5, 5, 6, 4, 4, 5, 2, 6, 5, 5, 5, 6, 4, 5, 4, 5, 4, 5, 2,\n",
       "       4, 4, 4, 5, 4, 5, 5, 5, 4, 5, 4, 4, 5, 4, 4, 4, 6, 6, 4, 4, 5, 6,\n",
       "       4, 4, 6, 5, 5, 4, 4, 5, 5, 4, 5, 4, 6, 4, 4, 2, 4, 4, 4, 5, 4, 5,\n",
       "       5, 5, 5, 5, 5, 5, 4, 5, 4, 6, 4, 4, 5, 4, 5, 5, 5, 2, 5, 5, 5, 6,\n",
       "       5, 5, 5, 5, 4, 4, 4, 4, 5, 4, 4, 5, 5, 5, 4, 5, 5, 5, 2, 4, 4, 5,\n",
       "       4, 4, 6, 4, 4, 5, 4, 4, 4, 5, 6, 5, 4, 4, 5, 4, 4, 5, 5, 4, 6, 4,\n",
       "       5, 5, 2, 4, 5, 4, 5, 4, 4, 5, 4, 5, 5, 6, 6, 5, 4, 5, 4, 5, 5, 5,\n",
       "       5, 5, 2, 4, 4, 4, 4, 2, 5, 6, 5, 5, 6, 5, 2, 5, 5, 4, 4, 5, 5, 2,\n",
       "       5, 4, 5, 5, 5, 5, 4, 4, 4, 4, 4, 4, 5, 5, 5, 5, 4, 2, 4, 4, 4, 5,\n",
       "       4, 5, 5, 5, 5, 5, 5, 5, 4, 5, 5, 5, 4, 5, 5, 5, 5, 4, 5, 5, 5, 5,\n",
       "       5, 6, 5, 4, 6, 4, 4, 5, 4, 5, 5, 4, 5, 5, 4, 4, 4, 4, 5, 5, 5, 5,\n",
       "       4, 4, 5, 5, 4, 5, 5, 6, 4, 5, 4, 5, 4, 5, 5, 5, 4, 5, 2, 2, 5, 4,\n",
       "       5, 5, 4, 5, 4, 2, 2, 5, 4, 4, 4, 4, 5, 4, 5, 6, 6, 5, 4, 5])"
      ]
     },
     "execution_count": 15,
     "metadata": {},
     "output_type": "execute_result"
    }
   ],
   "source": [
    "pred = xgb.predict(test_X)\n",
    "pred"
   ]
  },
  {
   "cell_type": "code",
   "execution_count": 16,
   "id": "aa718f79",
   "metadata": {},
   "outputs": [
    {
     "data": {
      "text/plain": [
       "0.37471526195899774"
      ]
     },
     "execution_count": 16,
     "metadata": {},
     "output_type": "execute_result"
    }
   ],
   "source": [
    "accuracy_score(pred, test_y)"
   ]
  },
  {
   "cell_type": "code",
   "execution_count": 17,
   "id": "13c19ae0",
   "metadata": {},
   "outputs": [
    {
     "name": "stdout",
     "output_type": "stream",
     "text": [
      "              precision    recall  f1-score   support\n",
      "\n",
      "           0       0.00      0.00      0.00         8\n",
      "           1       0.00      0.00      0.00         1\n",
      "           2       0.21      0.07      0.11       110\n",
      "           3       0.00      0.00      0.00        10\n",
      "           4       0.43      0.49      0.46       295\n",
      "           5       0.37      0.54      0.44       293\n",
      "           6       0.23      0.11      0.14       161\n",
      "\n",
      "    accuracy                           0.37       878\n",
      "   macro avg       0.18      0.17      0.16       878\n",
      "weighted avg       0.34      0.37      0.34       878\n",
      "\n"
     ]
    },
    {
     "name": "stderr",
     "output_type": "stream",
     "text": [
      "C:\\Users\\sdfe0\\anaconda3\\lib\\site-packages\\sklearn\\metrics\\_classification.py:1245: UndefinedMetricWarning: Precision and F-score are ill-defined and being set to 0.0 in labels with no predicted samples. Use `zero_division` parameter to control this behavior.\n",
      "  _warn_prf(average, modifier, msg_start, len(result))\n",
      "C:\\Users\\sdfe0\\anaconda3\\lib\\site-packages\\sklearn\\metrics\\_classification.py:1245: UndefinedMetricWarning: Precision and F-score are ill-defined and being set to 0.0 in labels with no predicted samples. Use `zero_division` parameter to control this behavior.\n",
      "  _warn_prf(average, modifier, msg_start, len(result))\n",
      "C:\\Users\\sdfe0\\anaconda3\\lib\\site-packages\\sklearn\\metrics\\_classification.py:1245: UndefinedMetricWarning: Precision and F-score are ill-defined and being set to 0.0 in labels with no predicted samples. Use `zero_division` parameter to control this behavior.\n",
      "  _warn_prf(average, modifier, msg_start, len(result))\n"
     ]
    }
   ],
   "source": [
    "print(classification_report(test_y, pred))"
   ]
  },
  {
   "cell_type": "code",
   "execution_count": 18,
   "id": "c57781f6",
   "metadata": {},
   "outputs": [],
   "source": [
    "# 繪製混淆矩陣\n",
    "def plot_confusion_matrix(cm, classes, normalize=False, title='Confusion matrix', cmap=plt.cm.Blues):\n",
    "    \"\"\"\n",
    "    - cm : 計算出的混淆矩陣的值\n",
    "    - classes : 混淆矩阵中每一列每一行對應的行\n",
    "    - normalize : True:顯示百分比, False:顯示個數\n",
    "    \"\"\"\n",
    "    if normalize:\n",
    "        cm = cm.astype('float') / cm.sum(axis=1)[:, np.newaxis]\n",
    "        print(\"顯示百分比：\")\n",
    "        np.set_printoptions(formatter={'float': '{: 0.2f}'.format})\n",
    "        print(cm)\n",
    "    else:\n",
    "        print('顯示具體數字：')\n",
    "        print(cm)\n",
    "    plt.imshow(cm, interpolation='nearest', cmap=cmap)\n",
    "    plt.title(title)\n",
    "    plt.colorbar()\n",
    "    tick_marks = np.arange(len(classes))\n",
    "    plt.xticks(tick_marks, classes, rotation=45)\n",
    "    plt.yticks(tick_marks, classes)\n",
    "    # matplotlib版本問題，如果不加下面這行Code，則繪製的混淆矩陣上下只能顯示一半，有的版本的matplotlib不需要下面的Code，需試一下即可\n",
    "    plt.ylim(len(classes) - 0.5, -0.5)\n",
    "    fmt = '.2f' if normalize else 'd'\n",
    "    thresh = cm.max() / 2.\n",
    "    for i, j in itertools.product(range(cm.shape[0]), range(cm.shape[1])):\n",
    "        plt.text(j, i, format(cm[i, j], fmt),\n",
    "                 horizontalalignment=\"center\",\n",
    "                 color=\"white\" if cm[i, j] > thresh else \"black\")\n",
    "    plt.tight_layout()\n",
    "    plt.ylabel('True label')\n",
    "    plt.xlabel('Predicted label')\n",
    "    plt.show()\n",
    "    "
   ]
  },
  {
   "cell_type": "code",
   "execution_count": 19,
   "id": "c97fe6e0",
   "metadata": {},
   "outputs": [
    {
     "name": "stdout",
     "output_type": "stream",
     "text": [
      "顯示具體數字：\n",
      "[[  0   0   0   0   0   0   0]\n",
      " [  0   0   0   0   0   0   0]\n",
      " [  2   0   8   2  12   7   8]\n",
      " [  0   0   2   0   0   0   1]\n",
      " [  4   1  28   2 146 104  51]\n",
      " [  2   0  53   5 124 158  84]\n",
      " [  0   0  19   1  13  24  17]]\n"
     ]
    },
    {
     "data": {
      "image/png": "[encoded data removed]",
      "text/plain": [
       "<Figure size 432x288 with 2 Axes>"
      ]
     },
     "metadata": {
      "needs_background": "light"
     },
     "output_type": "display_data"
    }
   ],
   "source": [
    "classes = ['Above T4', 'L2-4', 'T10-12', 'T12-L2', 'T4-6', 'T6-8', 'T8-10']\n",
    "cm = confusion_matrix(pred, test_y)\n",
    "plot_confusion_matrix(cm, classes=classes, normalize=False, title='confusion matrix')"
   ]
  }
 ],
 "metadata": {
  "kernelspec": {
   "display_name": "Python 3",
   "language": "python",
   "name": "python3"
  },
  "language_info": {
   "codemirror_mode": {
    "name": "ipython",
    "version": 3
   },
   "file_extension": ".py",
   "mimetype": "text/x-python",
   "name": "python",
   "nbconvert_exporter": "python",
   "pygments_lexer": "ipython3",
   "version": "3.8.8"
  }
 },
 "nbformat": 4,
 "nbformat_minor": 5
}
